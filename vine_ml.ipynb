{
 "cells": [
  {
   "cell_type": "markdown",
   "metadata": {},
   "source": [
    "# Предсказание оценок вин"
   ]
  },
  {
   "cell_type": "markdown",
   "metadata": {},
   "source": [
    "Данный датасет попал ко мне волей случая с одного популярного маркетплейса вин. Данные - две таблицы, содержащие следующую информацию:\n",
    "\n",
    " - id пользователей, информация об их аккаунтах (кол-во оценок, подписчиков, подписок, лайков), id вина, немножко информации о нём, оценка, поставленная данным пользователем данному вину и др.\n",
    " - непосредественно характеристики, взятые из базы вин: опять же id, производитель страна производства, средний рейтинг, информация о производителе, вкусовые и химические характеристики (% алкоголя, сладость) и др.\n",
    "\n",
    "Хотим проанализировать данные и научиться предсказывать рейтинги вин с использованием методов коллаборативной фильтрации, обработки текстовых признаков и машинного обучения. Сразу хочется отметить, что несмотря на типовое сведение такой задачи к задаче классификации как к предсказанию, какую точно оценку из ограниченного числа возможных поставит пользователь, данная задача формулируется как задача регрессии. Это сделано из желания получить больше информации из ошибок предсказаний нормализованного рейтинга - количественную меру отклонения от истинных оценок, а не долю верных предсказаний. Кроме того, хоть выставляемые рейтинги и дискретны, ошибки выставления 4.0 или 1.5 вместо 4.5 не равнозначны. Отметим, что в задаче регрессии предполагается равномерная плотность пространства признаков (т.е. разница между оценками 3 и 4 равна разнице между 1 и 2), поэтому в дальнейшем будет иметь смысл нормализация таргета.\n",
    "\n",
    "В рамках такой постановки будем оценивать качество моделей с помощью RMSE и MAE как на более легко интерпретируемые. На графиках сравнения моделей предпочту выводить именно МАЕ, так как эта оценка прямо говорит нам среднюю величину отклонения.\n",
    "\n"
   ]
  },
  {
   "cell_type": "code",
   "execution_count": 1,
   "metadata": {},
   "outputs": [],
   "source": [
    "import pandas as pd\n",
    "import numpy as np\n",
    "from matplotlib import pyplot as plt\n",
    "import seaborn as sns\n",
    "\n",
    "from sklearn import model_selection as ms\n",
    "from sklearn import metrics\n",
    "from sklearn.pipeline import Pipeline, FeatureUnion\n",
    "from sklearn.compose import ColumnTransformer\n",
    "from sklearn.impute import SimpleImputer, MissingIndicator\n",
    "from sklearn.preprocessing import OneHotEncoder, LabelEncoder, FunctionTransformer, StandardScaler\n",
    "from sklearn.feature_extraction.text import CountVectorizer, TfidfTransformer\n",
    "from sklearn.feature_extraction.text import TfidfVectorizer\n",
    "\n",
    "import xgboost as xgb\n",
    "\n",
    "from surprise import SVD, Reader, Dataset, SVDpp\n",
    "from surprise.model_selection import GridSearchCV\n",
    "from surprise import NormalPredictor, BaselineOnly\n",
    "from surprise.model_selection import cross_validate\n",
    "\n",
    "from collections import OrderedDict"
   ]
  },
  {
   "cell_type": "markdown",
   "metadata": {},
   "source": [
    "Загрузим обе таблицы и посмотрим на результаты описательноого анализа."
   ]
  },
  {
   "cell_type": "code",
   "execution_count": 2,
   "metadata": {},
   "outputs": [
    {
     "data": {
      "text/html": [
       "<div>\n",
       "<style scoped>\n",
       "    .dataframe tbody tr th:only-of-type {\n",
       "        vertical-align: middle;\n",
       "    }\n",
       "\n",
       "    .dataframe tbody tr th {\n",
       "        vertical-align: top;\n",
       "    }\n",
       "\n",
       "    .dataframe thead th {\n",
       "        text-align: right;\n",
       "    }\n",
       "</style>\n",
       "<table border=\"1\" class=\"dataframe\">\n",
       "  <thead>\n",
       "    <tr style=\"text-align: right;\">\n",
       "      <th></th>\n",
       "      <th>rating</th>\n",
       "      <th>review_comments</th>\n",
       "      <th>review_likes</th>\n",
       "      <th>user_follower_count</th>\n",
       "      <th>user_following_count</th>\n",
       "      <th>user_id</th>\n",
       "      <th>user_rating_count</th>\n",
       "      <th>user_reviews_count</th>\n",
       "      <th>wine_id</th>\n",
       "      <th>wine_labels_count</th>\n",
       "      <th>wine_ratings_average</th>\n",
       "      <th>wine_ratings_count</th>\n",
       "      <th>wine_reviews_count</th>\n",
       "    </tr>\n",
       "  </thead>\n",
       "  <tbody>\n",
       "    <tr>\n",
       "      <th>count</th>\n",
       "      <td>99087.000000</td>\n",
       "      <td>99087.000000</td>\n",
       "      <td>99087.000000</td>\n",
       "      <td>99087.000000</td>\n",
       "      <td>99087.000000</td>\n",
       "      <td>9.908700e+04</td>\n",
       "      <td>99087.00000</td>\n",
       "      <td>99087.000000</td>\n",
       "      <td>99087.000000</td>\n",
       "      <td>99087.000000</td>\n",
       "      <td>99087.000000</td>\n",
       "      <td>99087.000000</td>\n",
       "      <td>99087.000000</td>\n",
       "    </tr>\n",
       "    <tr>\n",
       "      <th>mean</th>\n",
       "      <td>3.821480</td>\n",
       "      <td>2.978665</td>\n",
       "      <td>19.398004</td>\n",
       "      <td>1409.410397</td>\n",
       "      <td>457.899139</td>\n",
       "      <td>7.306021e+06</td>\n",
       "      <td>929.37676</td>\n",
       "      <td>831.081464</td>\n",
       "      <td>10580.605528</td>\n",
       "      <td>8436.998627</td>\n",
       "      <td>3.773564</td>\n",
       "      <td>3016.010677</td>\n",
       "      <td>485.890177</td>\n",
       "    </tr>\n",
       "    <tr>\n",
       "      <th>std</th>\n",
       "      <td>0.603595</td>\n",
       "      <td>8.955136</td>\n",
       "      <td>40.147512</td>\n",
       "      <td>4298.706241</td>\n",
       "      <td>2741.966749</td>\n",
       "      <td>7.025727e+06</td>\n",
       "      <td>1205.52568</td>\n",
       "      <td>1147.839191</td>\n",
       "      <td>7066.033073</td>\n",
       "      <td>15954.793938</td>\n",
       "      <td>0.379097</td>\n",
       "      <td>6157.951815</td>\n",
       "      <td>849.444186</td>\n",
       "    </tr>\n",
       "    <tr>\n",
       "      <th>min</th>\n",
       "      <td>1.000000</td>\n",
       "      <td>0.000000</td>\n",
       "      <td>0.000000</td>\n",
       "      <td>0.000000</td>\n",
       "      <td>0.000000</td>\n",
       "      <td>9.700000e+01</td>\n",
       "      <td>0.00000</td>\n",
       "      <td>0.000000</td>\n",
       "      <td>10.000000</td>\n",
       "      <td>0.000000</td>\n",
       "      <td>0.000000</td>\n",
       "      <td>0.000000</td>\n",
       "      <td>0.000000</td>\n",
       "    </tr>\n",
       "    <tr>\n",
       "      <th>25%</th>\n",
       "      <td>3.500000</td>\n",
       "      <td>0.000000</td>\n",
       "      <td>0.000000</td>\n",
       "      <td>7.000000</td>\n",
       "      <td>7.000000</td>\n",
       "      <td>1.941739e+06</td>\n",
       "      <td>157.00000</td>\n",
       "      <td>122.000000</td>\n",
       "      <td>4407.000000</td>\n",
       "      <td>418.000000</td>\n",
       "      <td>3.500000</td>\n",
       "      <td>197.000000</td>\n",
       "      <td>37.000000</td>\n",
       "    </tr>\n",
       "    <tr>\n",
       "      <th>50%</th>\n",
       "      <td>4.000000</td>\n",
       "      <td>0.000000</td>\n",
       "      <td>2.000000</td>\n",
       "      <td>75.000000</td>\n",
       "      <td>50.000000</td>\n",
       "      <td>4.773092e+06</td>\n",
       "      <td>490.00000</td>\n",
       "      <td>394.000000</td>\n",
       "      <td>8817.000000</td>\n",
       "      <td>2087.000000</td>\n",
       "      <td>3.800000</td>\n",
       "      <td>857.000000</td>\n",
       "      <td>155.000000</td>\n",
       "    </tr>\n",
       "    <tr>\n",
       "      <th>75%</th>\n",
       "      <td>4.000000</td>\n",
       "      <td>1.000000</td>\n",
       "      <td>20.000000</td>\n",
       "      <td>608.000000</td>\n",
       "      <td>227.000000</td>\n",
       "      <td>1.037788e+07</td>\n",
       "      <td>1228.00000</td>\n",
       "      <td>1077.500000</td>\n",
       "      <td>15967.000000</td>\n",
       "      <td>8460.000000</td>\n",
       "      <td>4.000000</td>\n",
       "      <td>3194.000000</td>\n",
       "      <td>543.000000</td>\n",
       "    </tr>\n",
       "    <tr>\n",
       "      <th>max</th>\n",
       "      <td>5.000000</td>\n",
       "      <td>403.000000</td>\n",
       "      <td>732.000000</td>\n",
       "      <td>63603.000000</td>\n",
       "      <td>209850.000000</td>\n",
       "      <td>3.060972e+07</td>\n",
       "      <td>11953.00000</td>\n",
       "      <td>11870.000000</td>\n",
       "      <td>27374.000000</td>\n",
       "      <td>107031.000000</td>\n",
       "      <td>5.000000</td>\n",
       "      <td>74687.000000</td>\n",
       "      <td>5893.000000</td>\n",
       "    </tr>\n",
       "  </tbody>\n",
       "</table>\n",
       "</div>"
      ],
      "text/plain": [
       "             rating  review_comments  review_likes  user_follower_count  \\\n",
       "count  99087.000000     99087.000000  99087.000000         99087.000000   \n",
       "mean       3.821480         2.978665     19.398004          1409.410397   \n",
       "std        0.603595         8.955136     40.147512          4298.706241   \n",
       "min        1.000000         0.000000      0.000000             0.000000   \n",
       "25%        3.500000         0.000000      0.000000             7.000000   \n",
       "50%        4.000000         0.000000      2.000000            75.000000   \n",
       "75%        4.000000         1.000000     20.000000           608.000000   \n",
       "max        5.000000       403.000000    732.000000         63603.000000   \n",
       "\n",
       "       user_following_count       user_id  user_rating_count  \\\n",
       "count          99087.000000  9.908700e+04        99087.00000   \n",
       "mean             457.899139  7.306021e+06          929.37676   \n",
       "std             2741.966749  7.025727e+06         1205.52568   \n",
       "min                0.000000  9.700000e+01            0.00000   \n",
       "25%                7.000000  1.941739e+06          157.00000   \n",
       "50%               50.000000  4.773092e+06          490.00000   \n",
       "75%              227.000000  1.037788e+07         1228.00000   \n",
       "max           209850.000000  3.060972e+07        11953.00000   \n",
       "\n",
       "       user_reviews_count       wine_id  wine_labels_count  \\\n",
       "count        99087.000000  99087.000000       99087.000000   \n",
       "mean           831.081464  10580.605528        8436.998627   \n",
       "std           1147.839191   7066.033073       15954.793938   \n",
       "min              0.000000     10.000000           0.000000   \n",
       "25%            122.000000   4407.000000         418.000000   \n",
       "50%            394.000000   8817.000000        2087.000000   \n",
       "75%           1077.500000  15967.000000        8460.000000   \n",
       "max          11870.000000  27374.000000      107031.000000   \n",
       "\n",
       "       wine_ratings_average  wine_ratings_count  wine_reviews_count  \n",
       "count          99087.000000        99087.000000        99087.000000  \n",
       "mean               3.773564         3016.010677          485.890177  \n",
       "std                0.379097         6157.951815          849.444186  \n",
       "min                0.000000            0.000000            0.000000  \n",
       "25%                3.500000          197.000000           37.000000  \n",
       "50%                3.800000          857.000000          155.000000  \n",
       "75%                4.000000         3194.000000          543.000000  \n",
       "max                5.000000        74687.000000         5893.000000  "
      ]
     },
     "execution_count": 2,
     "metadata": {},
     "output_type": "execute_result"
    }
   ],
   "source": [
    "reviews = pd.read_csv('reviews.csv')\n",
    "reviews.describe()"
   ]
  },
  {
   "cell_type": "code",
   "execution_count": 3,
   "metadata": {
    "scrolled": true
   },
   "outputs": [
    {
     "data": {
      "text/html": [
       "<div>\n",
       "<style scoped>\n",
       "    .dataframe tbody tr th:only-of-type {\n",
       "        vertical-align: middle;\n",
       "    }\n",
       "\n",
       "    .dataframe tbody tr th {\n",
       "        vertical-align: top;\n",
       "    }\n",
       "\n",
       "    .dataframe thead th {\n",
       "        text-align: right;\n",
       "    }\n",
       "</style>\n",
       "<table border=\"1\" class=\"dataframe\">\n",
       "  <thead>\n",
       "    <tr style=\"text-align: right;\">\n",
       "      <th></th>\n",
       "      <th>alcohol</th>\n",
       "      <th>country_regions_count</th>\n",
       "      <th>country_users_count</th>\n",
       "      <th>country_wineries_count</th>\n",
       "      <th>country_wines_count</th>\n",
       "      <th>rank</th>\n",
       "      <th>region_id</th>\n",
       "      <th>sweetness_id</th>\n",
       "      <th>type_id</th>\n",
       "      <th>wine_id</th>\n",
       "      <th>wine_labels_count</th>\n",
       "      <th>wine_ratings_average</th>\n",
       "      <th>wine_ratings_count</th>\n",
       "      <th>wine_vintages_count</th>\n",
       "      <th>winery_id</th>\n",
       "      <th>winery_labels_count</th>\n",
       "      <th>winery_ratings_average</th>\n",
       "      <th>winery_ratings_count</th>\n",
       "      <th>winery_vintages_count</th>\n",
       "    </tr>\n",
       "  </thead>\n",
       "  <tbody>\n",
       "    <tr>\n",
       "      <th>count</th>\n",
       "      <td>15179.000000</td>\n",
       "      <td>15179.000000</td>\n",
       "      <td>1.517900e+04</td>\n",
       "      <td>15179.000000</td>\n",
       "      <td>15179.00000</td>\n",
       "      <td>0.0</td>\n",
       "      <td>15179.000000</td>\n",
       "      <td>640.000000</td>\n",
       "      <td>15179.000000</td>\n",
       "      <td>15179.000000</td>\n",
       "      <td>15179.000000</td>\n",
       "      <td>15179.000000</td>\n",
       "      <td>15179.000000</td>\n",
       "      <td>15179.000000</td>\n",
       "      <td>15179.000000</td>\n",
       "      <td>1.517900e+04</td>\n",
       "      <td>15179.000000</td>\n",
       "      <td>15179.000000</td>\n",
       "      <td>15179.000000</td>\n",
       "    </tr>\n",
       "    <tr>\n",
       "      <th>mean</th>\n",
       "      <td>9.127182</td>\n",
       "      <td>405.525199</td>\n",
       "      <td>3.410878e+06</td>\n",
       "      <td>24436.713617</td>\n",
       "      <td>177488.28770</td>\n",
       "      <td>NaN</td>\n",
       "      <td>791.762369</td>\n",
       "      <td>5.178125</td>\n",
       "      <td>1.824297</td>\n",
       "      <td>12135.792015</td>\n",
       "      <td>4131.941498</td>\n",
       "      <td>3.453844</td>\n",
       "      <td>765.491205</td>\n",
       "      <td>19.847091</td>\n",
       "      <td>13793.612952</td>\n",
       "      <td>1.102531e+05</td>\n",
       "      <td>3.680980</td>\n",
       "      <td>19182.229857</td>\n",
       "      <td>62.514131</td>\n",
       "    </tr>\n",
       "    <tr>\n",
       "      <th>std</th>\n",
       "      <td>6.487692</td>\n",
       "      <td>356.943871</td>\n",
       "      <td>2.609798e+06</td>\n",
       "      <td>17400.268082</td>\n",
       "      <td>109953.91636</td>\n",
       "      <td>NaN</td>\n",
       "      <td>876.530764</td>\n",
       "      <td>0.684839</td>\n",
       "      <td>2.131907</td>\n",
       "      <td>7069.437460</td>\n",
       "      <td>15842.723877</td>\n",
       "      <td>1.057943</td>\n",
       "      <td>2761.674079</td>\n",
       "      <td>14.780259</td>\n",
       "      <td>40097.048743</td>\n",
       "      <td>2.303390e+05</td>\n",
       "      <td>0.622204</td>\n",
       "      <td>37518.257677</td>\n",
       "      <td>201.957474</td>\n",
       "    </tr>\n",
       "    <tr>\n",
       "      <th>min</th>\n",
       "      <td>0.000000</td>\n",
       "      <td>-1.000000</td>\n",
       "      <td>-1.000000e+00</td>\n",
       "      <td>-1.000000</td>\n",
       "      <td>-1.00000</td>\n",
       "      <td>NaN</td>\n",
       "      <td>-1.000000</td>\n",
       "      <td>2.000000</td>\n",
       "      <td>1.000000</td>\n",
       "      <td>10.000000</td>\n",
       "      <td>0.000000</td>\n",
       "      <td>0.000000</td>\n",
       "      <td>0.000000</td>\n",
       "      <td>0.000000</td>\n",
       "      <td>-1.000000</td>\n",
       "      <td>-1.000000e+00</td>\n",
       "      <td>-1.000000</td>\n",
       "      <td>-1.000000</td>\n",
       "      <td>-1.000000</td>\n",
       "    </tr>\n",
       "    <tr>\n",
       "      <th>25%</th>\n",
       "      <td>0.000000</td>\n",
       "      <td>119.000000</td>\n",
       "      <td>8.095880e+05</td>\n",
       "      <td>10774.000000</td>\n",
       "      <td>76229.00000</td>\n",
       "      <td>NaN</td>\n",
       "      <td>201.000000</td>\n",
       "      <td>5.000000</td>\n",
       "      <td>1.000000</td>\n",
       "      <td>6059.500000</td>\n",
       "      <td>33.000000</td>\n",
       "      <td>3.400000</td>\n",
       "      <td>8.000000</td>\n",
       "      <td>10.000000</td>\n",
       "      <td>1395.500000</td>\n",
       "      <td>3.134500e+03</td>\n",
       "      <td>3.600000</td>\n",
       "      <td>721.000000</td>\n",
       "      <td>20.000000</td>\n",
       "    </tr>\n",
       "    <tr>\n",
       "      <th>50%</th>\n",
       "      <td>13.000000</td>\n",
       "      <td>353.000000</td>\n",
       "      <td>2.433650e+06</td>\n",
       "      <td>23021.000000</td>\n",
       "      <td>181142.00000</td>\n",
       "      <td>NaN</td>\n",
       "      <td>533.000000</td>\n",
       "      <td>5.000000</td>\n",
       "      <td>1.000000</td>\n",
       "      <td>11975.000000</td>\n",
       "      <td>267.000000</td>\n",
       "      <td>3.700000</td>\n",
       "      <td>62.000000</td>\n",
       "      <td>17.000000</td>\n",
       "      <td>3464.000000</td>\n",
       "      <td>1.996100e+04</td>\n",
       "      <td>3.800000</td>\n",
       "      <td>4212.000000</td>\n",
       "      <td>37.000000</td>\n",
       "    </tr>\n",
       "    <tr>\n",
       "      <th>75%</th>\n",
       "      <td>13.950000</td>\n",
       "      <td>552.000000</td>\n",
       "      <td>6.372124e+06</td>\n",
       "      <td>36219.000000</td>\n",
       "      <td>268975.00000</td>\n",
       "      <td>NaN</td>\n",
       "      <td>856.000000</td>\n",
       "      <td>5.000000</td>\n",
       "      <td>2.000000</td>\n",
       "      <td>18039.000000</td>\n",
       "      <td>1856.500000</td>\n",
       "      <td>4.000000</td>\n",
       "      <td>393.000000</td>\n",
       "      <td>26.000000</td>\n",
       "      <td>7603.000000</td>\n",
       "      <td>9.219300e+04</td>\n",
       "      <td>3.900000</td>\n",
       "      <td>17360.000000</td>\n",
       "      <td>65.000000</td>\n",
       "    </tr>\n",
       "    <tr>\n",
       "      <th>max</th>\n",
       "      <td>85.000000</td>\n",
       "      <td>1278.000000</td>\n",
       "      <td>6.391594e+06</td>\n",
       "      <td>62800.000000</td>\n",
       "      <td>390160.00000</td>\n",
       "      <td>NaN</td>\n",
       "      <td>4639.000000</td>\n",
       "      <td>7.000000</td>\n",
       "      <td>25.000000</td>\n",
       "      <td>27474.000000</td>\n",
       "      <td>484969.000000</td>\n",
       "      <td>5.000000</td>\n",
       "      <td>74687.000000</td>\n",
       "      <td>223.000000</td>\n",
       "      <td>252912.000000</td>\n",
       "      <td>1.695043e+06</td>\n",
       "      <td>5.000000</td>\n",
       "      <td>341472.000000</td>\n",
       "      <td>5795.000000</td>\n",
       "    </tr>\n",
       "  </tbody>\n",
       "</table>\n",
       "</div>"
      ],
      "text/plain": [
       "            alcohol  country_regions_count  country_users_count  \\\n",
       "count  15179.000000           15179.000000         1.517900e+04   \n",
       "mean       9.127182             405.525199         3.410878e+06   \n",
       "std        6.487692             356.943871         2.609798e+06   \n",
       "min        0.000000              -1.000000        -1.000000e+00   \n",
       "25%        0.000000             119.000000         8.095880e+05   \n",
       "50%       13.000000             353.000000         2.433650e+06   \n",
       "75%       13.950000             552.000000         6.372124e+06   \n",
       "max       85.000000            1278.000000         6.391594e+06   \n",
       "\n",
       "       country_wineries_count  country_wines_count  rank     region_id  \\\n",
       "count            15179.000000          15179.00000   0.0  15179.000000   \n",
       "mean             24436.713617         177488.28770   NaN    791.762369   \n",
       "std              17400.268082         109953.91636   NaN    876.530764   \n",
       "min                 -1.000000             -1.00000   NaN     -1.000000   \n",
       "25%              10774.000000          76229.00000   NaN    201.000000   \n",
       "50%              23021.000000         181142.00000   NaN    533.000000   \n",
       "75%              36219.000000         268975.00000   NaN    856.000000   \n",
       "max              62800.000000         390160.00000   NaN   4639.000000   \n",
       "\n",
       "       sweetness_id       type_id       wine_id  wine_labels_count  \\\n",
       "count    640.000000  15179.000000  15179.000000       15179.000000   \n",
       "mean       5.178125      1.824297  12135.792015        4131.941498   \n",
       "std        0.684839      2.131907   7069.437460       15842.723877   \n",
       "min        2.000000      1.000000     10.000000           0.000000   \n",
       "25%        5.000000      1.000000   6059.500000          33.000000   \n",
       "50%        5.000000      1.000000  11975.000000         267.000000   \n",
       "75%        5.000000      2.000000  18039.000000        1856.500000   \n",
       "max        7.000000     25.000000  27474.000000      484969.000000   \n",
       "\n",
       "       wine_ratings_average  wine_ratings_count  wine_vintages_count  \\\n",
       "count          15179.000000        15179.000000         15179.000000   \n",
       "mean               3.453844          765.491205            19.847091   \n",
       "std                1.057943         2761.674079            14.780259   \n",
       "min                0.000000            0.000000             0.000000   \n",
       "25%                3.400000            8.000000            10.000000   \n",
       "50%                3.700000           62.000000            17.000000   \n",
       "75%                4.000000          393.000000            26.000000   \n",
       "max                5.000000        74687.000000           223.000000   \n",
       "\n",
       "           winery_id  winery_labels_count  winery_ratings_average  \\\n",
       "count   15179.000000         1.517900e+04            15179.000000   \n",
       "mean    13793.612952         1.102531e+05                3.680980   \n",
       "std     40097.048743         2.303390e+05                0.622204   \n",
       "min        -1.000000        -1.000000e+00               -1.000000   \n",
       "25%      1395.500000         3.134500e+03                3.600000   \n",
       "50%      3464.000000         1.996100e+04                3.800000   \n",
       "75%      7603.000000         9.219300e+04                3.900000   \n",
       "max    252912.000000         1.695043e+06                5.000000   \n",
       "\n",
       "       winery_ratings_count  winery_vintages_count  \n",
       "count          15179.000000           15179.000000  \n",
       "mean           19182.229857              62.514131  \n",
       "std            37518.257677             201.957474  \n",
       "min               -1.000000              -1.000000  \n",
       "25%              721.000000              20.000000  \n",
       "50%             4212.000000              37.000000  \n",
       "75%            17360.000000              65.000000  \n",
       "max           341472.000000            5795.000000  "
      ]
     },
     "execution_count": 3,
     "metadata": {},
     "output_type": "execute_result"
    }
   ],
   "source": [
    "wines = pd.read_csv('wines.csv')\n",
    "wines.describe()"
   ]
  },
  {
   "cell_type": "markdown",
   "metadata": {},
   "source": [
    "## Анализ целевой переменной"
   ]
  },
  {
   "cell_type": "markdown",
   "metadata": {},
   "source": [
    "Прежде чем начать построение моделей машинного обучения, важно посмотреть на целевую переменную - её среднее значение и распределение. Кроме того, стоит учитывать смещение оценки внутри пользовательской аудитории, для этого нормализуем рейтинг и посмотрим на распределение его и некольких важных числовых признаков в датасете."
   ]
  },
  {
   "cell_type": "code",
   "execution_count": 4,
   "metadata": {},
   "outputs": [
    {
     "data": {
      "text/plain": [
       "<matplotlib.axes._subplots.AxesSubplot at 0x7fb6c73680b8>"
      ]
     },
     "execution_count": 4,
     "metadata": {},
     "output_type": "execute_result"
    },
    {
     "data": {
      "image/png": "[encoded data removed]",
      "text/plain": [
       "<Figure size 432x288 with 1 Axes>"
      ]
     },
     "metadata": {
      "needs_background": "light"
     },
     "output_type": "display_data"
    }
   ],
   "source": [
    "reviews.rating[reviews.rating.isna()]\n",
    "reviews.loc[42080, 'rating'] = reviews.rating.mean() \n",
    "\n",
    "ratings = reviews.rating\n",
    "reviews['common_normalized_rating'] = (ratings - ratings.mean())/(ratings.std())\n",
    "\n",
    "sns.distplot(reviews['common_normalized_rating'])"
   ]
  },
  {
   "cell_type": "code",
   "execution_count": 5,
   "metadata": {},
   "outputs": [
    {
     "name": "stderr",
     "output_type": "stream",
     "text": [
      "/home/maria/anaconda3/lib/python3.7/site-packages/numpy/lib/histograms.py:824: RuntimeWarning: invalid value encountered in greater_equal\n",
      "  keep = (tmp_a >= first_edge)\n",
      "/home/maria/anaconda3/lib/python3.7/site-packages/numpy/lib/histograms.py:825: RuntimeWarning: invalid value encountered in less_equal\n",
      "  keep &= (tmp_a <= last_edge)\n",
      "/home/maria/anaconda3/lib/python3.7/site-packages/statsmodels/nonparametric/kde.py:448: RuntimeWarning: invalid value encountered in greater\n",
      "  X = X[np.logical_and(X > clip[0], X < clip[1])] # won't work for two columns.\n",
      "/home/maria/anaconda3/lib/python3.7/site-packages/statsmodels/nonparametric/kde.py:448: RuntimeWarning: invalid value encountered in less\n",
      "  X = X[np.logical_and(X > clip[0], X < clip[1])] # won't work for two columns.\n"
     ]
    },
    {
     "data": {
      "image/png": "[encoded data removed]",
      "text/plain": [
       "<Figure size 1080x720 with 4 Axes>"
      ]
     },
     "metadata": {
      "needs_background": "light"
     },
     "output_type": "display_data"
    }
   ],
   "source": [
    "features = ['rating', 'user_rating_count', 'wine_ratings_average', 'wine_ratings_count']\n",
    "\n",
    "fig, ax = plt.subplots(2, 2, figsize=(15, 10))\n",
    "\n",
    "for i in range(len(features)):\n",
    "    sns.distplot(reviews[features[i]],\n",
    "             label=features[i],\n",
    "             bins=10,\n",
    "             ax=ax[i//2][i%2])"
   ]
  },
  {
   "cell_type": "markdown",
   "metadata": {},
   "source": [
    "Видно, что имеющиеся данные очень несбалансированы. Наблюдаем высокий пик в положительную сторону от нормализованной оценки, очень много оценок 4.0, средняя оценка вина также лежит в пределах 3.5-4.0. И что самое неприятное, большая часть пользователей в датасете оставила, судя по всему, очнь мало оценок. Если взглянуть подробнее, сгруппировав пользователей по числу оставленных оценок:"
   ]
  },
  {
   "cell_type": "code",
   "execution_count": 6,
   "metadata": {},
   "outputs": [
    {
     "data": {
      "text/plain": [
       "<matplotlib.axes._subplots.AxesSubplot at 0x7fb6c51e8518>"
      ]
     },
     "execution_count": 6,
     "metadata": {},
     "output_type": "execute_result"
    },
    {
     "data": {
      "image/png": "[encoded data removed]",
      "text/plain": [
       "<Figure size 432x288 with 1 Axes>"
      ]
     },
     "metadata": {
      "needs_background": "light"
     },
     "output_type": "display_data"
    }
   ],
   "source": [
    "byUserNumRatings = reviews[['user_id', 'rating']].groupby(['user_id']).count()\n",
    "    \n",
    "byUserNumRatings.reset_index(level=0, inplace=True)\n",
    "\n",
    "numUsersByNumRatings = byUserNumRatings.groupby(['rating']).count()\n",
    "\n",
    "sns.distplot(numUsersByNumRatings)"
   ]
  },
  {
   "cell_type": "markdown",
   "metadata": {},
   "source": [
    "Большая часть пользователей оставила только 1 оценку, что очень непрезентативно для построения рабочей рекомендательной системы. Такое распределение нужно учесть при разбиении датасета на обучение и выборку.\n",
    "\n",
    "А вообще, сам вид распределения количества оценок весьма типичен, в датасетах поисковых данных очень часто большинство объектов бывает оценено малым числом пользователей. НО В ИТОГОВОМ ВАРИАНТЕ ССЫЛКУ МОЖЕШЬ НЕ ОСТАВЛЯТЬ Вот тут статья про знакомство с датасетами и правильное представление распределений (учебных) данных, которую я слишком поздно нашла: https://towardsdatascience.com/recommender-system-in-python-part-1-preparation-and-analysis-d6bb7939091e"
   ]
  },
  {
   "cell_type": "markdown",
   "metadata": {},
   "source": [
    "## Предобработка данных"
   ]
  },
  {
   "cell_type": "markdown",
   "metadata": {},
   "source": [
    "Объединим имеющиеся таблицы данных и посмотрим на признаки."
   ]
  },
  {
   "cell_type": "code",
   "execution_count": 7,
   "metadata": {},
   "outputs": [
    {
     "data": {
      "text/html": [
       "<div>\n",
       "<style scoped>\n",
       "    .dataframe tbody tr th:only-of-type {\n",
       "        vertical-align: middle;\n",
       "    }\n",
       "\n",
       "    .dataframe tbody tr th {\n",
       "        vertical-align: top;\n",
       "    }\n",
       "\n",
       "    .dataframe thead th {\n",
       "        text-align: right;\n",
       "    }\n",
       "</style>\n",
       "<table border=\"1\" class=\"dataframe\">\n",
       "  <thead>\n",
       "    <tr style=\"text-align: right;\">\n",
       "      <th></th>\n",
       "      <th>coment</th>\n",
       "      <th>lang</th>\n",
       "      <th>time</th>\n",
       "      <th>wine_name</th>\n",
       "      <th>year</th>\n",
       "      <th>country</th>\n",
       "      <th>country_code</th>\n",
       "      <th>name</th>\n",
       "      <th>region_name</th>\n",
       "      <th>style</th>\n",
       "      <th>wine_description</th>\n",
       "      <th>winery_name</th>\n",
       "    </tr>\n",
       "  </thead>\n",
       "  <tbody>\n",
       "    <tr>\n",
       "      <th>count</th>\n",
       "      <td>99085</td>\n",
       "      <td>99086</td>\n",
       "      <td>99087</td>\n",
       "      <td>99087</td>\n",
       "      <td>99087</td>\n",
       "      <td>69762</td>\n",
       "      <td>69762</td>\n",
       "      <td>69762</td>\n",
       "      <td>69762</td>\n",
       "      <td>52129</td>\n",
       "      <td>49947</td>\n",
       "      <td>69762</td>\n",
       "    </tr>\n",
       "    <tr>\n",
       "      <th>unique</th>\n",
       "      <td>98303</td>\n",
       "      <td>30</td>\n",
       "      <td>99042</td>\n",
       "      <td>20096</td>\n",
       "      <td>90</td>\n",
       "      <td>26</td>\n",
       "      <td>26</td>\n",
       "      <td>3640</td>\n",
       "      <td>705</td>\n",
       "      <td>440</td>\n",
       "      <td>3418</td>\n",
       "      <td>1738</td>\n",
       "    </tr>\n",
       "    <tr>\n",
       "      <th>top</th>\n",
       "      <td>Muito bom</td>\n",
       "      <td>en</td>\n",
       "      <td>2015-01-17T20:50:11.000Z</td>\n",
       "      <td>Cabernet Sauvignon</td>\n",
       "      <td>U.V.</td>\n",
       "      <td>United States</td>\n",
       "      <td>us</td>\n",
       "      <td>Pinot Noir</td>\n",
       "      <td>Columbia Valley</td>\n",
       "      <td>{'id': 157, 'seo_name': 'californian-pinot-noi...</td>\n",
       "      <td>Silky black cherry, cranberry and orange zest ...</td>\n",
       "      <td>Buccia</td>\n",
       "    </tr>\n",
       "    <tr>\n",
       "      <th>freq</th>\n",
       "      <td>15</td>\n",
       "      <td>95877</td>\n",
       "      <td>2</td>\n",
       "      <td>1488</td>\n",
       "      <td>18069</td>\n",
       "      <td>28499</td>\n",
       "      <td>28499</td>\n",
       "      <td>2268</td>\n",
       "      <td>2566</td>\n",
       "      <td>1721</td>\n",
       "      <td>880</td>\n",
       "      <td>1014</td>\n",
       "    </tr>\n",
       "  </tbody>\n",
       "</table>\n",
       "</div>"
      ],
      "text/plain": [
       "           coment   lang                      time           wine_name   year  \\\n",
       "count       99085  99086                     99087               99087  99087   \n",
       "unique      98303     30                     99042               20096     90   \n",
       "top     Muito bom     en  2015-01-17T20:50:11.000Z  Cabernet Sauvignon   U.V.   \n",
       "freq           15  95877                         2                1488  18069   \n",
       "\n",
       "              country country_code        name      region_name  \\\n",
       "count           69762        69762       69762            69762   \n",
       "unique             26           26        3640              705   \n",
       "top     United States           us  Pinot Noir  Columbia Valley   \n",
       "freq            28499        28499        2268             2566   \n",
       "\n",
       "                                                    style  \\\n",
       "count                                               52129   \n",
       "unique                                                440   \n",
       "top     {'id': 157, 'seo_name': 'californian-pinot-noi...   \n",
       "freq                                                 1721   \n",
       "\n",
       "                                         wine_description winery_name  \n",
       "count                                               49947       69762  \n",
       "unique                                               3418        1738  \n",
       "top     Silky black cherry, cranberry and orange zest ...      Buccia  \n",
       "freq                                                  880        1014  "
      ]
     },
     "execution_count": 7,
     "metadata": {},
     "output_type": "execute_result"
    }
   ],
   "source": [
    "df_joined = reviews.join(wines, on='wine_id', lsuffix='_rev', rsuffix='_wine')\n",
    "df_joined.dtypes\n",
    "\n",
    "non_numeric_columns = df_joined.select_dtypes(exclude=['number']).columns.tolist()\n",
    "df_joined[non_numeric_columns].describe()"
   ]
  },
  {
   "cell_type": "code",
   "execution_count": 8,
   "metadata": {},
   "outputs": [
    {
     "name": "stdout",
     "output_type": "stream",
     "text": [
      "Unique values of non numeric data:\n",
      " coment              98303\n",
      "lang                   30\n",
      "time                99042\n",
      "wine_name           20096\n",
      "year                   90\n",
      "country                26\n",
      "country_code           26\n",
      "name                 3640\n",
      "region_name           705\n",
      "style                 440\n",
      "wine_description     3418\n",
      "winery_name          1738\n",
      "dtype: int64\n",
      "Unique values of numeric data:\n",
      " coment                       98303\n",
      "lang                            30\n",
      "rating                          10\n",
      "review_comments                142\n",
      "review_likes                   437\n",
      "time                         99042\n",
      "user_follower_count           1809\n",
      "user_following_count          1242\n",
      "user_id                      34223\n",
      "user_rating_count             2250\n",
      "user_reviews_count            1967\n",
      "wine_id_rev                   7628\n",
      "wine_labels_count_rev         5776\n",
      "wine_name                    20096\n",
      "wine_ratings_average_rev        39\n",
      "wine_ratings_count_rev        3238\n",
      "wine_reviews_count            1125\n",
      "year                            90\n",
      "common_normalized_rating        10\n",
      "alcohol                        196\n",
      "country                         26\n",
      "country_code                    26\n",
      "country_regions_count           24\n",
      "country_users_count             34\n",
      "country_wineries_count          34\n",
      "country_wines_count             34\n",
      "name                          3640\n",
      "rank                             0\n",
      "region_id                      707\n",
      "region_name                    705\n",
      "style                          440\n",
      "sweetness_id                     4\n",
      "type_id                          7\n",
      "wine_description              3418\n",
      "wine_id_wine                  4854\n",
      "wine_labels_count_wine        2222\n",
      "wine_ratings_average_wine       36\n",
      "wine_ratings_count_wine       1365\n",
      "wine_vintages_count             98\n",
      "winery_id                     1743\n",
      "winery_labels_count           1712\n",
      "winery_name                   1738\n",
      "winery_ratings_average          25\n",
      "winery_ratings_count          1567\n",
      "winery_vintages_count          163\n",
      "dtype: int64\n"
     ]
    }
   ],
   "source": [
    "non_numeric_columns = df_joined.select_dtypes(exclude=['number']).columns.tolist()\n",
    "numeric_columns = df_joined.select_dtypes(include=['number']).columns.tolist()\n",
    "\n",
    "unique_values_num = df_joined.apply(pd.Series.nunique)\n",
    "unique_values_non_num = df_joined[non_numeric_columns].apply(pd.Series.nunique)\n",
    "print(\"Unique values of non numeric data:\\n\", unique_values_non_num)\n",
    "print(\"Unique values of numeric data:\\n\", unique_values_num)"
   ]
  },
  {
   "cell_type": "markdown",
   "metadata": {},
   "source": [
    "Видим, что признаков очень много, есть количественные, категориальные и текстовые столбцы, каждый из которых требует предварительной обработки. Для начала удалим дублирующие друг друга и неинформативные признаки. Отберём текстовые признаки; те числовые признаки, которые имеют мало уникальных значений и которые удобнее представить как категориальные; остальные оставим количественными."
   ]
  },
  {
   "cell_type": "code",
   "execution_count": 9,
   "metadata": {},
   "outputs": [],
   "source": [
    "df_joined.drop(['style', 'time', 'rank', 'winery_name', 'wine_name', 'country', 'name', 'region_name'], \n",
    "               axis=1, inplace=True)\n",
    "\n",
    "text_columns = ['coment', 'wine_description']\n",
    "categorical_columns = ['sweetness_id', 'type_id', 'country_code', 'lang']\n",
    "numeric_columns = df_joined.select_dtypes(include=['number']).columns.tolist()\n",
    "numeric_columns.remove('sweetness_id')\n",
    "numeric_columns.remove('type_id')"
   ]
  },
  {
   "cell_type": "markdown",
   "metadata": {},
   "source": [
    "Данные довольно грязные: нам точно не пригодится строка с отсутствующим user_id (она одна), все рейтинги без wine_id переобозначим как оценки, оставленные некоторому вину с новым id = -1. Такой OutOfVocabulary подход позволит не потерять ного данных при чистке, но и получить некоторую усредненную информацию для отсутствующих вин.\n",
    "\n",
    "Также в реализованной функции очистки данных преобразуем в категориальный признак country_code, оставив только 6 значений (5 наиболее часто встречающихся и один \"другое\"). Переведём признак года вина в количественный. (КСТАТИ КАК ЕГО ИСПОЛЬЗОВАТЬ?)"
   ]
  },
  {
   "cell_type": "code",
   "execution_count": 10,
   "metadata": {},
   "outputs": [],
   "source": [
    "def clean_data(data):\n",
    "    data = data.drop(data[data.user_id.isna()].index)\n",
    "    null_wines_idx = data[data.wine_id_wine.isna()].index\n",
    "    data['wine_id_wine'].loc[null_wines_idx] = -1\n",
    "    \n",
    "    country_code_treshold = sorted(list(data['country_code'].value_counts()))[-5:][0]\n",
    "    lang_treshold = sorted(list(data['lang'].value_counts()))[-5:][0]\n",
    "\n",
    "    counts_country_code = data['country_code'].value_counts()\n",
    "    data['country_code'].replace(counts_country_code[counts_country_code < country_code_treshold].index,\n",
    "                                 'uncommon', inplace=True)\n",
    "    counts_lang = data['lang'].value_counts()\n",
    "    data['lang'].replace(counts_lang[counts_lang < lang_treshold].index, 'uncommon', inplace=True)\n",
    "\n",
    "    data.year.replace('U.V.', np.NaN, inplace=True)\n",
    "    data.year.replace('N.V.', np.NaN, inplace=True)\n",
    "    data.year = data.year.astype(float)\n",
    "    \n",
    "    return data"
   ]
  },
  {
   "cell_type": "code",
   "execution_count": 11,
   "metadata": {},
   "outputs": [],
   "source": [
    "import warnings\n",
    "\n",
    "warnings.filterwarnings('ignore')\n",
    "df_joined = clean_data(df_joined)"
   ]
  },
  {
   "cell_type": "markdown",
   "metadata": {},
   "source": [
    "Далее необходимо правильно разделить датасет на обучение и выборку: хотим, чтобы в тест у нас отправились только те пользователи, оценки которых уже присутствуют в обучении. Так как один из используемых методов - это SVD-разложение матрицы Пользователи х Вина, такой сплит не позволит SVD сойти с ума при обнаружении не встреченного ранее пользователя в тесте."
   ]
  },
  {
   "cell_type": "code",
   "execution_count": 12,
   "metadata": {},
   "outputs": [],
   "source": [
    "def split(data, train_s=0.8):\n",
    "    print(\"data shape:\", data.shape[0])\n",
    "    byUserNumRatings = reviews[['user_id', 'rating']].groupby(['user_id']).count()\n",
    "\n",
    "    # сначала положим в обучение всех пользователей в датасете, которые поставили только одну оценку\n",
    "    print(\"Всего пользователей: \", byUserNumRatings.shape[0])\n",
    "    one_rating_users = byUserNumRatings[byUserNumRatings.rating==1].index.tolist()\n",
    "    print(\"Пользователей с 1 оценкой: \", len(one_rating_users))\n",
    "    train_data = data.loc[data['user_id'].isin(one_rating_users)]\n",
    "\n",
    "    # для остальных поль-лей случайно выберем 1 оценку и добавим в обучение\n",
    "    more_rating_users = byUserNumRatings[byUserNumRatings.rating>1].index.tolist()\n",
    "    print(\"Пользователей с >1 оценками: \", len(more_rating_users))\n",
    "    test_data = pd.DataFrame()\n",
    "    \n",
    "    for user in more_rating_users:\n",
    "        sh = data[data.user_id==user].shape[0]\n",
    "        if sh<=3:\n",
    "            train_data = train_data.append(data[data.user_id==user].iloc[0])\n",
    "            test_data = test_data.append(data[data.user_id==user].iloc[1:])\n",
    "        elif sh<=10:\n",
    "            train_data = train_data.append(data[data.user_id==user].iloc[:8])\n",
    "            test_data = test_data.append(data[data.user_id==user].iloc[9:])\n",
    "        else:\n",
    "            prop = int(0.8*sh)\n",
    "            train_data = train_data.append(data[data.user_id==user].iloc[:prop])\n",
    "            test_data = test_data.append(data[data.user_id==user].iloc[prop+1:])\n",
    "    # По-хорошему, конечно, необходимо перемешивать данные и разбивать случайно в каждом отдельном случае, но в \n",
    "    # данном случае для простоты пренебрежем влиянием порядка данных в датасете из предположения, что записи в \n",
    "    # нем случайны.\n",
    "\n",
    "    print(\"Итоговая доля обучения: \", train_data.shape[0]/data.shape[0])\n",
    "    \n",
    "    return (train_data, test_data)"
   ]
  },
  {
   "cell_type": "code",
   "execution_count": 13,
   "metadata": {},
   "outputs": [
    {
     "name": "stdout",
     "output_type": "stream",
     "text": [
      "data shape: 99087\n",
      "Всего пользователей:  34223\n",
      "Пользователей с 1 оценкой:  23538\n",
      "Пользователей с >1 оценками:  10685\n",
      "Итоговая доля обучения:  0.8268188561567108\n"
     ]
    }
   ],
   "source": [
    "data_train, data_test = split(df_joined)"
   ]
  },
  {
   "cell_type": "markdown",
   "metadata": {},
   "source": [
    "## SVD"
   ]
  },
  {
   "cell_type": "markdown",
   "metadata": {},
   "source": [
    "Так как нам хочется не только предсказывать рейтинги, но и научиться в идеале рекомендовать вина пользователям,  сформулируем задачу как построение предсказаний на основе имеющейся истории взаимодействий пользователя с винами.\n",
    "\n",
    "Для этого обратимся к методам коллабортиавной фильтрации, которые работают с матрицей взаимодействия, в нашем случае, матрицей рейтинга. Матрица эта, как правило, огромная, очень разреженная, и большинство значений отсутствует, тем более на таком несбалансированном по rating per user датасете. Посмотрим, что нам даст сырая матричная факторизация.\n",
    "\n",
    "SVD - один из методов матричной факторизации, включающий оценку параметров с помощью стохастичекого градиентного спуска. В реализации используется библиотека surprise с множеством моделей для построения предсказаний. Для сравнения работы построенных алгоритмов будем отталкиваться от базовых оценок (BaselineOnly) и случайного нормального распределения обучающей выборки (NormalPredictor)."
   ]
  },
  {
   "cell_type": "code",
   "execution_count": 33,
   "metadata": {},
   "outputs": [
    {
     "name": "stdout",
     "output_type": "stream",
     "text": [
      "Normal MAE:  1.10786780972465   RMSE:  1.411300656151196\n",
      "Baseline MAE:  0.6360893457625785   RMSE:  0.8860096567903929\n"
     ]
    }
   ],
   "source": [
    "data_train_svd = data_train[['user_id', 'wine_id_wine', 'common_normalized_rating']]\n",
    "data_train_svd = data_train_svd.astype({'user_id':int, 'wine_id_wine':int, 'common_normalized_rating':float})\n",
    "\n",
    "max_rate = data_train_svd['common_normalized_rating'].values.max()\n",
    "min_rate = data_train_svd['common_normalized_rating'].values.min()\n",
    "\n",
    "reader = Reader(rating_scale=(min_rate, max_rate))\n",
    "data = Dataset.load_from_df(data_train_svd, reader)\n",
    "normal_est = cross_validate(NormalPredictor(), data, cv=5, n_jobs=4)\n",
    "baseline_est = cross_validate(BaselineOnly(), data, cv=5, n_jobs=4)\n",
    "print('Normal MAE: ', np.mean(normal_est['test_mae']), '  RMSE: ', np.mean(normal_est['test_rmse']))\n",
    "print('Baseline MAE: ', np.mean(baseline_est['test_mae']), '  RMSE: ', np.mean(baseline_est['test_rmse']))"
   ]
  },
  {
   "cell_type": "markdown",
   "metadata": {},
   "source": [
    "SVD является одной из самой популярных методологий в построении рекомендательнх систем. Вместе с тем, качество её работы остается очень чувствительным к гиперпараметрам. Подберём их."
   ]
  },
  {
   "cell_type": "code",
   "execution_count": 34,
   "metadata": {},
   "outputs": [],
   "source": [
    "param_grid = {'n_factors': [10,30,100], \n",
    "              'n_epochs': range(10, 105, 5),\n",
    "              'lr_all': [0.008, 0.009],\n",
    "              'reg_all': [0.1, 0.08], \n",
    "              'init_mean': [0.0, data_train.common_normalized_rating.mean()], \n",
    "              'init_std_dev':[0.1, data_train.common_normalized_rating.std()]}\n",
    "# прикинем жадным поиски оптимальные параметры для SVD на обучающей выборке\n",
    "gs_svd = GridSearchCV(SVD, param_grid, measures=['rmse', 'mae'], cv=5, n_jobs=4)    \n",
    "\n",
    "gs_svd.fit(data)\n",
    "bestSVD = gs_svd.best_estimator['mae']"
   ]
  },
  {
   "cell_type": "markdown",
   "metadata": {},
   "source": [
    "В реализации surprise есть свои особенности применения, в частности, ограниченная система формирования test-сета. Чтобы сохранить реализованный ранее сплит и получить предсказания на обучающих и тестовых данных, просто соберем покомпонентно эти предсказания самостоятельно."
   ]
  },
  {
   "cell_type": "code",
   "execution_count": 35,
   "metadata": {},
   "outputs": [
    {
     "data": {
      "text/plain": [
       "<surprise.prediction_algorithms.matrix_factorization.SVD at 0x7f83b999e0f0>"
      ]
     },
     "execution_count": 35,
     "metadata": {},
     "output_type": "execute_result"
    }
   ],
   "source": [
    "trainset_svd = data.build_full_trainset()\n",
    "bestSVD.fit(trainset_svd)       # снова обучим лучшую по параметрам SVD, чтобы получить доступ к атрибутам \n",
    "                                # матричной факторизации: user_bias, item_bias, user_factors и item_factors"
   ]
  },
  {
   "cell_type": "code",
   "execution_count": 36,
   "metadata": {},
   "outputs": [],
   "source": [
    "# запомним отображение исходных user_id и wine_id в их идентификаторы в рамках SVD-разложения\n",
    "mapping_bu = trainset_svd.__dict__['_raw2inner_id_users']\n",
    "mapping_bi = trainset_svd.__dict__['_raw2inner_id_items']"
   ]
  },
  {
   "cell_type": "code",
   "execution_count": 46,
   "metadata": {},
   "outputs": [
    {
     "name": "stderr",
     "output_type": "stream",
     "text": [
      "/home/maria/anaconda3/lib/python3.7/site-packages/ipykernel_launcher.py:15: FutureWarning: Method .as_matrix will be removed in a future version. Use .values instead.\n",
      "  from ipykernel import kernelapp as app\n"
     ]
    },
    {
     "data": {
      "text/plain": [
       "array([ 0.2851757 , -0.38555418, -0.40498627, ...,  0.15770036,\n",
       "        0.35459132,  0.00419311])"
      ]
     },
     "execution_count": 46,
     "metadata": {},
     "output_type": "execute_result"
    }
   ],
   "source": [
    "mu = data_train['common_normalized_rating'].values.mean()\n",
    "\n",
    "def svd_predict(x):             # cложим вычисленные на обучающей выборке компоненты в стандартный прогноз SVD\n",
    "    y = bestSVD.pu[mapping_bu.get(x['user_id'])]              # используем факторы пользователя\n",
    "    if mapping_bi.get(x['wine_id_wine']):\n",
    "        z = bestSVD.qi[mapping_bi.get(x['wine_id_wine'])]     # факторы вина\n",
    "        bi = bestSVD.bi[mapping_bi.get(x['wine_id_wine'])]    # смещение по вину (bias)\n",
    "    else:\n",
    "        z = bestSVD.qi[mapping_bi.get(-1)]\n",
    "        bi = bestSVD.bi[mapping_bi.get(-1)]\n",
    "    bu = bestSVD.bu[mapping_bu.get(x['user_id'])]             # смещение по пользователю (bias)\n",
    "    \n",
    "    return mu + bu + bi + np.dot(y,z)                         # и также учтем среднее\n",
    "\n",
    "res_train = data_train.apply(svd_predict, axis=1).as_matrix()\n",
    "res_train"
   ]
  },
  {
   "cell_type": "code",
   "execution_count": 43,
   "metadata": {},
   "outputs": [
    {
     "data": {
      "text/plain": [
       "array([1.12413729, 0.29576268, 0.29576268, ..., 0.29576268, 0.29576268,\n",
       "       0.29576268])"
      ]
     },
     "execution_count": 43,
     "metadata": {},
     "output_type": "execute_result"
    }
   ],
   "source": [
    "data_train['common_normalized_rating'].values"
   ]
  },
  {
   "cell_type": "markdown",
   "metadata": {},
   "source": [
    "Уже визуально аблюдаем ощутимое расхождение. Проделаем то же самое с тестовым датасетом и посмотрим на ошибки."
   ]
  },
  {
   "cell_type": "code",
   "execution_count": 47,
   "metadata": {},
   "outputs": [],
   "source": [
    "svd_test = data_test[['user_id', 'wine_id_wine', 'common_normalized_rating']]\n",
    "svd_test = svd_test.astype({'user_id':int, 'wine_id_wine':int, 'common_normalized_rating':float})"
   ]
  },
  {
   "cell_type": "code",
   "execution_count": 48,
   "metadata": {},
   "outputs": [
    {
     "name": "stderr",
     "output_type": "stream",
     "text": [
      "/home/maria/anaconda3/lib/python3.7/site-packages/ipykernel_launcher.py:1: FutureWarning: Method .as_matrix will be removed in a future version. Use .values instead.\n",
      "  \"\"\"Entry point for launching an IPython kernel.\n"
     ]
    },
    {
     "data": {
      "text/plain": [
       "array([-1.55746233, -0.56233669,  0.29127084, ...,  0.18905728,\n",
       "        0.13098551,  0.18878465])"
      ]
     },
     "execution_count": 48,
     "metadata": {},
     "output_type": "execute_result"
    }
   ],
   "source": [
    "res_test = data_test.apply(svd_predict, axis=1).as_matrix()\n",
    "res_test"
   ]
  },
  {
   "cell_type": "code",
   "execution_count": null,
   "metadata": {},
   "outputs": [],
   "source": [
    "svd_test['common_normalized_rating'].values"
   ]
  },
  {
   "cell_type": "markdown",
   "metadata": {},
   "source": [
    "Конечно, визуально оценить величину ошибки невозможно, посчитаем их для обучающего и тестового датасетов и сравним с полученными ранее BaselineOnly и NormalPredictor."
   ]
  },
  {
   "cell_type": "code",
   "execution_count": 51,
   "metadata": {},
   "outputs": [
    {
     "name": "stdout",
     "output_type": "stream",
     "text": [
      "Train MAE:  0.4950477339738902   Train RMSE:  0.479047842654367\n",
      "Test MAE:  0.5859603175972965   Test RMSE:  0.6772881283006332\n"
     ]
    }
   ],
   "source": [
    "print('Train MAE: ', metrics.mean_absolute_error(res_train, data_train_svd['common_normalized_rating']), '  Train RMSE: ', \n",
    "      metrics.mean_squared_error(res_train, data_train_svd['common_normalized_rating']))\n",
    "print('Test MAE: ', metrics.mean_absolute_error(res_test, svd_test['common_normalized_rating']), '  Test RMSE: ', \n",
    "      metrics.mean_squared_error(res_test, svd_test['common_normalized_rating']))"
   ]
  },
  {
   "cell_type": "markdown",
   "metadata": {},
   "source": [
    "Что ж, SVD предсказывает лучше, чем базовые алгоритмы, но ошибка в 0.5-0.6 от нормализованного рейтинга непростительно велика. Запомним полученный результат и добавим его для сравнения в набор признаков при обучении xgboost-а.\n",
    "\n"
   ]
  },
  {
   "cell_type": "markdown",
   "metadata": {},
   "source": [
    "## Простейший xgboost с числовыми признаками"
   ]
  },
  {
   "cell_type": "markdown",
   "metadata": {},
   "source": [
    "Наряду с SVD посмотрим на примитивное решение xgboost-а на основе только числовых признаков. Разделим выборки на признаки и таргет. Так как xgboost прихотлив к формату входных данных, проведем все необходимые для градиентного бустинга преобразования: заполнение пропусков и one-hot-encoding категориальных данных."
   ]
  },
  {
   "cell_type": "code",
   "execution_count": 14,
   "metadata": {},
   "outputs": [],
   "source": [
    "def make_X_y(nltk=0):\n",
    "    X_train = data_train.drop(['rating', 'common_normalized_rating', 'coment', 'wine_description'], axis=1)\n",
    "    X_test = data_test.drop(['rating', 'common_normalized_rating', 'coment', 'wine_description'], axis=1)\n",
    "    if nltk:\n",
    "        X_train = X_train.drop(['preprocessed'], axis=1)\n",
    "        X_test = X_test.drop(['preprocessed'], axis=1)\n",
    "\n",
    "    y_train = data_train['common_normalized_rating']\n",
    "    y_test = data_test['common_normalized_rating']\n",
    "    \n",
    "    return X_train, X_test, y_train, y_test"
   ]
  },
  {
   "cell_type": "code",
   "execution_count": 15,
   "metadata": {},
   "outputs": [],
   "source": [
    "X_train, X_test, y_train, y_test = make_X_y()"
   ]
  },
  {
   "cell_type": "code",
   "execution_count": 16,
   "metadata": {},
   "outputs": [],
   "source": [
    "categorical_transformer = Pipeline(steps=[\n",
    "    ('imputer', SimpleImputer(strategy='most_frequent')),\n",
    "    ('onehot', OneHotEncoder(handle_unknown='ignore'))])\n",
    "\n",
    "preprocessor = ColumnTransformer(\n",
    "    [\n",
    "        ('cat', categorical_transformer, categorical_columns),\n",
    "    ], remainder='passthrough'\n",
    ")"
   ]
  },
  {
   "cell_type": "code",
   "execution_count": 17,
   "metadata": {},
   "outputs": [
    {
     "name": "stdout",
     "output_type": "stream",
     "text": [
      "CPU times: user 833 ms, sys: 120 ms, total: 953 ms\n",
      "Wall time: 851 ms\n"
     ]
    }
   ],
   "source": [
    "%%time\n",
    "X_train = preprocessor.fit_transform(X_train)"
   ]
  },
  {
   "cell_type": "code",
   "execution_count": 18,
   "metadata": {},
   "outputs": [],
   "source": [
    "X_test = preprocessor.transform(X_test)"
   ]
  },
  {
   "cell_type": "code",
   "execution_count": 19,
   "metadata": {},
   "outputs": [
    {
     "name": "stdout",
     "output_type": "stream",
     "text": [
      "Обучение:  (81927, 52) \t\tТест:  (15300, 52)\n"
     ]
    }
   ],
   "source": [
    "print('Обучение: ', X_train.shape, '\\t\\tТест: ', X_test.shape)"
   ]
  },
  {
   "cell_type": "markdown",
   "metadata": {},
   "source": [
    "Ещё часто проводится нормализация количественных признаков, но так как поставлена задача регрессии и для её решения мы будем пользоваться XGB над решающими деревьями, то масштабирование данных не будет иметь значения.\n",
    "\n",
    "Поварьируем число деревьев и посмотрим на ошибки."
   ]
  },
  {
   "cell_type": "code",
   "execution_count": 20,
   "metadata": {},
   "outputs": [],
   "source": [
    "def xgb_reg(X_train, y_train, X_test, y_test, imp_columns=df_joined.drop(['rating', 'common_normalized_rating', \n",
    "                                                                          'coment', 'wine_description'], \n",
    "                                                                         axis=1).columns):\n",
    "    evals = []  \n",
    "    n_trees = list(range(5, 105, 5))\n",
    "    for tree in n_trees:\n",
    "        warnings.filterwarnings('ignore')\n",
    "        est = xgb.XGBRegressor(max_depth=15, learning_rate=0.1, objective='reg:squarederror', n_estimators=tree, \n",
    "                               n_jobs=4, random_state=42)\n",
    "        est.fit(X_train, y_train, eval_set=[(X_train, y_train), (X_test, y_test)], eval_metric=['rmse', 'mae'], \n",
    "                verbose=False)    \n",
    "        importances = OrderedDict(sorted(list(zip(imp_columns, est.feature_importances_)), key=lambda st: st[1]))\n",
    "        evals.append(est.evals_result())\n",
    "    return evals, importances"
   ]
  },
  {
   "cell_type": "code",
   "execution_count": 31,
   "metadata": {},
   "outputs": [],
   "source": [
    "evals_result, importances = xgb_reg(X_train, y_train, X_test, y_test)"
   ]
  },
  {
   "cell_type": "code",
   "execution_count": 22,
   "metadata": {},
   "outputs": [],
   "source": [
    "def show_evals(result):\n",
    "    for i in result:\n",
    "        train_rmse = i.get('validation_0').get('rmse')\n",
    "        train_mae = i.get('validation_0').get('mae')\n",
    "        test_rmse = i.get('validation_1').get('rmse')\n",
    "        test_mae = i.get('validation_1').get('mae')\n",
    "    print(test_mae[:10])\n",
    "    return train_rmse, train_mae, test_rmse, test_mae"
   ]
  },
  {
   "cell_type": "code",
   "execution_count": 23,
   "metadata": {},
   "outputs": [
    {
     "name": "stdout",
     "output_type": "stream",
     "text": [
      "[0.724982, 0.674892, 0.635774, 0.603563, 0.576611, 0.554029, 0.534451, 0.518845, 0.505331, 0.49376]\n"
     ]
    }
   ],
   "source": [
    "train_evals_rmse, train_evals_mae, test_evals_rmse, test_evals_mae = show_evals(evals_result)"
   ]
  },
  {
   "cell_type": "code",
   "execution_count": 24,
   "metadata": {},
   "outputs": [],
   "source": [
    "def plot_compare(data1, label1, data2, label2, data3=None, label3=None, data4=None, label4=None, data5=None, \n",
    "                 label5=None, data6=None, label6=None, data7=None, label7=None, data8=None, label8=None,):\n",
    "    plt.figure(1, figsize=(15,5))\n",
    "    plt.subplot(121)\n",
    "    plt.plot(range(len(data1)), data1, label=label1)\n",
    "    plt.plot(range(len(data2)), data2, label=label2)\n",
    "    if data5:\n",
    "        plt.plot(range(len(data5)), data5, label=label5)\n",
    "    if data6:\n",
    "        plt.plot(range(len(data6)), data6, label=label6)\n",
    "        \n",
    "\n",
    "    plt.grid(True)\n",
    "    plt.xlabel('n_trees')\n",
    "    plt.ylabel('score')\n",
    "    title_name = label1.split()\n",
    "    plt.title(title_name[1])\n",
    "    plt.legend(loc='upper right')\n",
    "\n",
    "    plt.subplot(122)\n",
    "    plt.plot(range(len(data3)), data3, label=label3)\n",
    "    plt.plot(range(len(data4)), data4, label=label4)\n",
    "    if data7:\n",
    "        plt.plot(range(len(data7)), data7, label=label7)\n",
    "    if data8:\n",
    "        plt.plot(range(len(data8)), data8, label=label8)\n",
    "\n",
    "    plt.grid(True)\n",
    "    plt.xlabel('n_trees')\n",
    "    plt.ylabel('score')\n",
    "    title_name = label3.split()\n",
    "    plt.title(title_name[1])\n",
    "    plt.legend(loc='upper right')\n",
    "\n",
    "    plt.show()"
   ]
  },
  {
   "cell_type": "code",
   "execution_count": 25,
   "metadata": {},
   "outputs": [
    {
     "data": {
      "image/png": "[encoded data removed]",
      "text/plain": [
       "<Figure size 1080x360 with 2 Axes>"
      ]
     },
     "metadata": {
      "needs_background": "light"
     },
     "output_type": "display_data"
    }
   ],
   "source": [
    "plot_compare(train_evals_mae, 'train MAE', test_evals_mae, 'test MAE', train_evals_rmse, 'train RMSE', test_evals_rmse,\n",
    "            'test RMSE')"
   ]
  },
  {
   "cell_type": "markdown",
   "metadata": {},
   "source": [
    "Судя по всему, большое число деревьев не улучшает качество предсказаний, так как после 30 ошибка на тестовых данных перестает значительно падать. Это неудивительно, едь датасет не такой уж и большой.\n",
    "\n",
    "Между тем, определим признаки, оказывающие наибольшее влияние на предсказание."
   ]
  },
  {
   "cell_type": "code",
   "execution_count": 42,
   "metadata": {},
   "outputs": [
    {
     "data": {
      "text/plain": [
       "<BarContainer object of 33 artists>"
      ]
     },
     "execution_count": 42,
     "metadata": {},
     "output_type": "execute_result"
    },
    {
     "data": {
      "image/png": "[encoded data removed]",
      "text/plain": [
       "<Figure size 1440x504 with 1 Axes>"
      ]
     },
     "metadata": {
      "needs_background": "light"
     },
     "output_type": "display_data"
    }
   ],
   "source": [
    "fig = plt.figure(figsize=(20, 7))\n",
    "plt.barh(*zip(*sorted(importances.items(), key=lambda x:x[1])))"
   ]
  },
  {
   "cell_type": "markdown",
   "metadata": {},
   "source": [
    "Таким образом, получили, что xgboost оказывается несколько точнее по сравнению с SVD, даже без использования всех признаков, таких как текст и параметры SVD-разложения.\n",
    "\n",
    "Посмотрим, как изменится качество предсказаний при добавлении некоторых атрибутов матричной факторизации к признакам."
   ]
  },
  {
   "cell_type": "markdown",
   "metadata": {},
   "source": [
    "## SVD++    (SVDpp)"
   ]
  },
  {
   "cell_type": "markdown",
   "metadata": {},
   "source": [
    "Библиотека surprise предлагает нам более интересный алгоритм матричной факторизации, который позволяет учитывать набор факторов, отражающий неявные рейтинги (как, например, сам факт того, что пользователь оценил данное вино). Обучим его."
   ]
  },
  {
   "cell_type": "code",
   "execution_count": 43,
   "metadata": {},
   "outputs": [],
   "source": [
    "# выбираем данные для матрицы Пользователи х Вина\n",
    "data_train_svd = data_train[['user_id', 'wine_id_wine', 'common_normalized_rating']]\n",
    "data_train_svd = data_train_svd.astype({ 'user_id':int, 'wine_id_wine':int,'common_normalized_rating':float})\n",
    "svd_test = data_test[['user_id', 'wine_id_wine', 'common_normalized_rating']]\n",
    "svd_test = svd_test.astype({ 'user_id':int, 'wine_id_wine':int,'common_normalized_rating':float})\n",
    "\n",
    "# устанавливаем границы таргета\n",
    "max_rate = data_train_svd['common_normalized_rating'].values.max()\n",
    "min_rate = data_train_svd['common_normalized_rating'].values.min()\n",
    "\n",
    "# заводим специальные объекты для обработки SVD++, подбираем параметры на обучающей выборке\n",
    "reader = Reader(rating_scale=(min_rate, max_rate))\n",
    "data = Dataset.load_from_df(data_train_svd, reader)\n",
    "\n",
    "param_grid_svdpp = {'n_epochs': range(30, 70, 5), 'lr_all': [0.009], 'reg_all': [0.08]}\n",
    "\n",
    "gs_svdpp = GridSearchCV(SVDpp, param_grid_svdpp, measures=['rmse','mae'], cv=5, n_jobs=4)\n",
    "gs_svdpp.fit(data)\n",
    "bestSVDpp = gs_svdpp.best_estimator['mae']"
   ]
  },
  {
   "cell_type": "code",
   "execution_count": 44,
   "metadata": {},
   "outputs": [
    {
     "data": {
      "text/plain": [
       "<surprise.prediction_algorithms.matrix_factorization.SVDpp at 0x7fb6c0028c18>"
      ]
     },
     "execution_count": 44,
     "metadata": {},
     "output_type": "execute_result"
    }
   ],
   "source": [
    "# обучаем модель на обучающей выборке\n",
    "trainset_svdpp = data.build_full_trainset()\n",
    "bestSVDpp.fit(trainset_svdpp)"
   ]
  },
  {
   "cell_type": "code",
   "execution_count": 45,
   "metadata": {},
   "outputs": [],
   "source": [
    "# получим новые отображения\n",
    "mapping_bu_pp = trainset_svdpp.__dict__['_raw2inner_id_users']\n",
    "mapping_bi_pp = trainset_svdpp.__dict__['_raw2inner_id_items']"
   ]
  },
  {
   "cell_type": "code",
   "execution_count": 46,
   "metadata": {},
   "outputs": [],
   "source": [
    "bu = bestSVDpp.bu[data_train['user_id'].map(mapping_bu_pp)]\n",
    "bi = bestSVDpp.bi[data_train['wine_id_wine'].map(mapping_bi_pp)]\n",
    "yj = bestSVDpp.yj[data_train['wine_id_wine'].map(mapping_bi_pp)]\n",
    "\n",
    "bu_test = bestSVDpp.bu[data_test['user_id'].map(mapping_bu_pp)]\n",
    "\n",
    "# с wine_bias-ами придется повозиться, так как в тесте могут быть wine_id, не встретившиеся в обучении. \n",
    "wine_map = data_test['wine_id_wine'].map(mapping_bi_pp)    \n",
    "wine_map[wine_map.isna()] = mapping_bi_pp.get(-1)   # переобозначим их за наше OutOfVocabulary id=-1\n",
    "wine_map = wine_map.astype(int)\n",
    "bi_test = bestSVDpp.bi[wine_map]\n",
    "yj_test = bestSVDpp.yj[wine_map]"
   ]
  },
  {
   "cell_type": "code",
   "execution_count": 48,
   "metadata": {},
   "outputs": [],
   "source": [
    "def svd_scalar_map_pp(x):                                 # аналогично соберём компоненты разложения - скалярное \n",
    "    y = bestSVDpp.pu[mapping_bu_pp.get(x['user_id'])]     # произведение факторов пользователя на факторы вина\n",
    "    if mapping_bi_pp.get(x['wine_id_wine']):\n",
    "        z = bestSVDpp.qi[mapping_bi_pp.get(x['wine_id_wine'])]\n",
    "    else:\n",
    "        z = bestSVDpp.qi[mapping_bi_pp.get(-1)]\n",
    "    return np.dot(y,z)\n",
    "    \n",
    "scalar = data_train.apply(svd_scalar_map_pp, axis=1).as_matrix()\n",
    "scalar_test = data_test.apply(svd_scalar_map_pp, axis=1).as_matrix()"
   ]
  },
  {
   "cell_type": "code",
   "execution_count": 49,
   "metadata": {},
   "outputs": [],
   "source": [
    "def svd_sum(x):                                              # и сумму скалярного произведения и смещений\n",
    "    u = bestSVDpp.bu[mapping_bu_pp.get(x['user_id'])]\n",
    "    if mapping_bi_pp.get(x['wine_id_wine']):\n",
    "        i = bestSVDpp.bi[mapping_bi_pp.get(x['wine_id_wine'])]\n",
    "    else:\n",
    "        i = bestSVDpp.bi[mapping_bi_pp.get(-1)]\n",
    "    sc = svd_scalar_map_pp(x)\n",
    "    return (u + i + sc)\n",
    "\n",
    "svd_sum_train = data_train.apply(svd_sum, axis=1).as_matrix()\n",
    "svd_sum_test = data_test.apply(svd_sum, axis=1).as_matrix()"
   ]
  },
  {
   "cell_type": "code",
   "execution_count": 46,
   "metadata": {},
   "outputs": [],
   "source": [
    "X_train, X_test, y_train, y_test = make_X_y()"
   ]
  },
  {
   "cell_type": "code",
   "execution_count": 47,
   "metadata": {},
   "outputs": [],
   "source": [
    "X_train['user_bias'] = pd.Series(bu, index=X_train.index)   # будем добавлять полученные компоненты к признакам для\n",
    "X_train['wine_bias'] = pd.Series(bi, index=X_train.index)   # обучения, начнем с bias-ов.\n",
    "\n",
    "X_test['user_bias'] = pd.Series(bu_test, index=X_test.index)\n",
    "X_test['wine_bias'] = pd.Series(bi_test, index=X_test.index)\n",
    "\n",
    "imp_columns = X_train.columns"
   ]
  },
  {
   "cell_type": "code",
   "execution_count": 48,
   "metadata": {},
   "outputs": [
    {
     "name": "stdout",
     "output_type": "stream",
     "text": [
      "Обучение:  (81927, 54) Тест:  (15300, 54)\n"
     ]
    }
   ],
   "source": [
    "X_train = preprocessor.fit_transform(X_train)\n",
    "X_test = preprocessor.transform(X_test)\n",
    "print('Обучение: ', X_train.shape, 'Тест: ', X_test.shape)"
   ]
  },
  {
   "cell_type": "code",
   "execution_count": 49,
   "metadata": {},
   "outputs": [],
   "source": [
    "evals_result_bias, importances_bias = xgb_reg(X_train, y_train, X_test, y_test, imp_columns)"
   ]
  },
  {
   "cell_type": "code",
   "execution_count": 50,
   "metadata": {},
   "outputs": [
    {
     "name": "stdout",
     "output_type": "stream",
     "text": [
      "[0.72936, 0.684601, 0.649875, 0.621958, 0.598084, 0.577831, 0.560961, 0.54714, 0.535767, 0.526357]\n"
     ]
    }
   ],
   "source": [
    "train_evals_rmse_bias, train_evals_mae_bias, test_evals_rmse_bias, test_evals_mae_bias = show_evals(evals_result_bias)"
   ]
  },
  {
   "cell_type": "code",
   "execution_count": 51,
   "metadata": {},
   "outputs": [
    {
     "data": {
      "image/png": "[encoded data removed]",
      "text/plain": [
       "<Figure size 1080x360 with 2 Axes>"
      ]
     },
     "metadata": {
      "needs_background": "light"
     },
     "output_type": "display_data"
    }
   ],
   "source": [
    "plot_compare(train_evals_mae, 'train MAE', train_evals_mae_bias, 'train MAE with bias', test_evals_mae, 'test MAE', \n",
    "             test_evals_mae_bias, 'test MAE with bias')"
   ]
  },
  {
   "cell_type": "markdown",
   "metadata": {},
   "source": [
    "На графиках наглядно показано, как быстро переобучается модель при добавлении bias-ов (ещё даже не суммы компонент SVD-разложения): на обучающей выборке xgboost показывает заметно лучший результат, а на тестовой всегда проигрывает простейшем обучении на числовых данных. Очевидно, алгоритмы слишком настраиваются на конкртеный набор данных."
   ]
  },
  {
   "cell_type": "markdown",
   "metadata": {},
   "source": [
    "Посмотрим, станут ли предсказания лучше при добавлении скалярного произведения факторов пользователя на факторы вин - основы предсказания SVD."
   ]
  },
  {
   "cell_type": "code",
   "execution_count": 52,
   "metadata": {},
   "outputs": [],
   "source": [
    "X_train, X_test, y_train, y_test = make_X_y()\n",
    "\n",
    "X_train['svd_scalar'] = pd.Series(scalar, index=X_train.index)\n",
    "X_test['svd_scalar'] = pd.Series(scalar_test, index=X_test.index)\n",
    "\n",
    "imp_columns = X_train.columns"
   ]
  },
  {
   "cell_type": "code",
   "execution_count": 53,
   "metadata": {},
   "outputs": [
    {
     "name": "stdout",
     "output_type": "stream",
     "text": [
      "Обучение:  (81927, 53) Тест:  (15300, 53)\n"
     ]
    }
   ],
   "source": [
    "X_train = preprocessor.fit_transform(X_train)\n",
    "X_test = preprocessor.transform(X_test)\n",
    "print('Обучение: ', X_train.shape, 'Тест: ', X_test.shape)"
   ]
  },
  {
   "cell_type": "code",
   "execution_count": 54,
   "metadata": {},
   "outputs": [],
   "source": [
    "evals_result_scalar, importances_scalar = xgb_reg(X_train, y_train, X_test, y_test, imp_columns)"
   ]
  },
  {
   "cell_type": "code",
   "execution_count": 56,
   "metadata": {},
   "outputs": [
    {
     "name": "stdout",
     "output_type": "stream",
     "text": [
      "[0.730953, 0.687355, 0.653345, 0.625649, 0.602593, 0.583181, 0.566238, 0.551826, 0.539618, 0.529466]\n"
     ]
    },
    {
     "data": {
      "image/png": "[encoded data removed]",
      "text/plain": [
       "<Figure size 1080x360 with 2 Axes>"
      ]
     },
     "metadata": {
      "needs_background": "light"
     },
     "output_type": "display_data"
    }
   ],
   "source": [
    "train_evals_rmse_scalar, train_evals_mae_scalar, test_evals_rmse_scalar, test_evals_mae_scalar = show_evals(evals_result_scalar)\n",
    "plot_compare(train_evals_mae, 'train MAE', train_evals_mae_scalar, 'train MAE with scalar', test_evals_mae, \n",
    "             'test MAE', test_evals_mae_scalar, 'test MAE with scalar')"
   ]
  },
  {
   "cell_type": "markdown",
   "metadata": {},
   "source": [
    "Наблюдаем очень схожие результаты. И при добавлении самого предсказания (суммы смещение по пользователям и винам и скалярного произведения факторов):"
   ]
  },
  {
   "cell_type": "code",
   "execution_count": 50,
   "metadata": {},
   "outputs": [],
   "source": [
    "X_train, X_test, y_train, y_test = make_X_y()\n",
    "\n",
    "X_train['svd_sum'] = pd.Series(svd_sum_train, index=X_train.index)\n",
    "X_test['svd_sum'] = pd.Series(svd_sum_test, index=X_test.index)\n",
    "\n",
    "imp_columns = X_train.columns"
   ]
  },
  {
   "cell_type": "code",
   "execution_count": 51,
   "metadata": {},
   "outputs": [
    {
     "name": "stdout",
     "output_type": "stream",
     "text": [
      "Обучение:  (81927, 53) \t\tТест:  (15300, 53)\n"
     ]
    }
   ],
   "source": [
    "X_train = preprocessor.fit_transform(X_train)\n",
    "X_test = preprocessor.transform(X_test)\n",
    "print('Обучение: ', X_train.shape, '\\t\\tТест: ', X_test.shape)"
   ]
  },
  {
   "cell_type": "code",
   "execution_count": 52,
   "metadata": {},
   "outputs": [],
   "source": [
    "evals_result_sum, importances_sum = xgb_reg(X_train, y_train, X_test, y_test, imp_columns)"
   ]
  },
  {
   "cell_type": "code",
   "execution_count": 53,
   "metadata": {},
   "outputs": [
    {
     "name": "stdout",
     "output_type": "stream",
     "text": [
      "[0.731464, 0.688358, 0.655831, 0.629094, 0.607043, 0.587414, 0.57116, 0.55737, 0.545519, 0.535743]\n"
     ]
    },
    {
     "data": {
      "image/png": "[encoded data removed]",
      "text/plain": [
       "<Figure size 1080x360 with 2 Axes>"
      ]
     },
     "metadata": {
      "needs_background": "light"
     },
     "output_type": "display_data"
    }
   ],
   "source": [
    "train_eval_rmse_sum, train_eval_mae_sum, test_eval_rmse_sum, test_eval_mae_sum = show_evals(evals_result_sum)\n",
    "plot_compare(train_evals_mae, 'train MAE', train_eval_mae_sum, 'train MAE with sum', test_evals_mae, 'test MAE', \n",
    "             test_eval_mae_sum, 'test MAE with sum')"
   ]
  },
  {
   "cell_type": "code",
   "execution_count": 54,
   "metadata": {},
   "outputs": [
    {
     "data": {
      "text/plain": [
       "<BarContainer object of 34 artists>"
      ]
     },
     "execution_count": 54,
     "metadata": {},
     "output_type": "execute_result"
    },
    {
     "data": {
      "image/png": "[encoded data removed]",
      "text/plain": [
       "<Figure size 1440x504 with 1 Axes>"
      ]
     },
     "metadata": {
      "needs_background": "light"
     },
     "output_type": "display_data"
    }
   ],
   "source": [
    "fig = plt.figure(figsize=(20, 7))\n",
    "plt.barh(*zip(*sorted(importances_sum.items(), key=lambda x:x[1])))"
   ]
  },
  {
   "cell_type": "markdown",
   "metadata": {},
   "source": [
    "Результат по сути тот же: графикам отчетливо видно, как при добавлении в признаки какого-либо атрибута SVD-разложения улучшается качество предсказаний на обучении и ухудшается на тесте, - на лицо переобучение. Очевидно, xgboost выучивает много лишнего, подробнее о том, почему так происходит, написано ниже."
   ]
  },
  {
   "cell_type": "markdown",
   "metadata": {},
   "source": [
    "## Усечение SVD++"
   ]
  },
  {
   "cell_type": "markdown",
   "metadata": {},
   "source": [
    "Чтобы попытаться исправить сложившуюся картину, проведем отбор в данных для матричной факторизации: будем настраиваться на пользователей, оставивших не меньше одной оценки. Для определенности и ускорения работы SVD++ оставим в OutOfVocabulary небольшую часть пользователей. Опять же, по-хорошему, нужно выборку перемешать, выбрать пользователей случайно или по их средним оценкам, но для простоты возьмём просто группку с 4 оценками."
   ]
  },
  {
   "cell_type": "code",
   "execution_count": 56,
   "metadata": {},
   "outputs": [
    {
     "name": "stdout",
     "output_type": "stream",
     "text": [
      "Пользователей с >5 оценками:  3794\n",
      "Пользователей с 4 оценками(OOV):  1162\n"
     ]
    }
   ],
   "source": [
    "# проведём отбор данных для SVD++\n",
    "\n",
    "more_rating_users = byUserNumRatings[byUserNumRatings.rating>=5].user_id.tolist()\n",
    "ne_rating_users = byUserNumRatings[byUserNumRatings.rating==4].user_id.tolist()\n",
    "print(\"Пользователей с >5 оценками: \", len(more_rating_users))\n",
    "print(\"Пользователей с 4 оценками(OOV): \", len(ne_rating_users))\n",
    "svd_data = data_train[data_train.user_id.isin(more_rating_users)][['user_id', 'wine_id_wine', 'common_normalized_rating']]\n",
    "svd_data = svd_data.append(data_train[data_train.user_id.isin(ne_rating_users)][['user_id', 'wine_id_wine', \n",
    "                                                                                 'common_normalized_rating']])\n",
    "\n",
    "svd_data.loc[svd_data['user_id'].isin(ne_rating_users), 'user_id'] = 1\n",
    "svd_data = svd_data.astype({ 'user_id':int, 'wine_id_wine':int,'common_normalized_rating':float})\n",
    "\n",
    "svd_test = data_test[['user_id', 'wine_id_wine', 'common_normalized_rating']]\n",
    "svd_test = svd_test.astype({ 'user_id':int, 'wine_id_wine':int,'common_normalized_rating':float})"
   ]
  },
  {
   "cell_type": "code",
   "execution_count": 57,
   "metadata": {},
   "outputs": [
    {
     "data": {
      "text/plain": [
       "<surprise.prediction_algorithms.matrix_factorization.SVDpp at 0x7fb6c2466748>"
      ]
     },
     "execution_count": 57,
     "metadata": {},
     "output_type": "execute_result"
    }
   ],
   "source": [
    "max_rate = svd_data['common_normalized_rating'].values.max()\n",
    "min_rate = svd_data['common_normalized_rating'].values.min()\n",
    "\n",
    "reader = Reader(rating_scale=(min_rate, max_rate))\n",
    "data = Dataset.load_from_df(svd_data, reader)\n",
    "trainset_svdpp_upd = data.build_full_trainset()\n",
    "\n",
    "bestSVDpp = SVDpp(n_factors=10, n_epochs=55, lr_all=0.008, reg_all=0.08, init_mean=0.0, init_std_dev=0.1)\n",
    "bestSVDpp.fit(trainset_svdpp_upd)"
   ]
  },
  {
   "cell_type": "code",
   "execution_count": 58,
   "metadata": {},
   "outputs": [],
   "source": [
    "mapping_bu_pp_upd = trainset_svdpp_upd.__dict__['_raw2inner_id_users']\n",
    "mapping_bi_pp_upd = trainset_svdpp_upd.__dict__['_raw2inner_id_items']"
   ]
  },
  {
   "cell_type": "code",
   "execution_count": 59,
   "metadata": {},
   "outputs": [],
   "source": [
    "# теперь данные отображения исходных id нужно проверять на OutOfVocabulary и присваивать соответствующие значения\n",
    "\n",
    "user_map_upd = data_train['user_id'].map(mapping_bu_pp_upd)\n",
    "user_map_upd[user_map_upd.isna()] = mapping_bu_pp_upd.get(1)\n",
    "user_map_upd = user_map_upd.astype(int)\n",
    "bu_upd = bestSVDpp.bu[user_map_upd]\n",
    "\n",
    "wine_map_upd = data_train['wine_id_wine'].map(mapping_bi_pp_upd)\n",
    "wine_map_upd[wine_map_upd.isna()] = mapping_bi_pp_upd.get(-1)\n",
    "wine_map_upd = wine_map_upd.astype(int)\n",
    "bi_upd = bestSVDpp.bi[wine_map_upd]"
   ]
  },
  {
   "cell_type": "code",
   "execution_count": 60,
   "metadata": {},
   "outputs": [],
   "source": [
    "user_map_upd_test = data_test['user_id'].map(mapping_bu_pp_upd)\n",
    "user_map_upd_test[user_map_upd_test.isna()] = mapping_bu_pp_upd.get(1)\n",
    "user_map_upd_test = user_map_upd_test.astype(int)\n",
    "bu_upd_test = bestSVDpp.bu[user_map_upd_test]\n",
    "\n",
    "wine_map_upd_test = data_test['wine_id_wine'].map(mapping_bi_pp_upd)\n",
    "wine_map_upd_test[wine_map_upd_test.isna()] = mapping_bi_pp_upd.get(-1)\n",
    "wine_map_upd_test = wine_map_upd_test.astype(int)\n",
    "bi_upd_test = bestSVDpp.bi[wine_map_upd_test]"
   ]
  },
  {
   "cell_type": "code",
   "execution_count": 61,
   "metadata": {},
   "outputs": [],
   "source": [
    "def svd_scalar_map_pp_upd(x):                                      # считаем скалярное произведение факторов\n",
    "    if mapping_bu_pp_upd.get(x['user_id']):\n",
    "        y = bestSVDpp.pu[mapping_bu_pp_upd.get(x['user_id'])]\n",
    "    elif mapping_bu_pp_upd.get(x['user_id'])==0:\n",
    "        y = bestSVDpp.pu[mapping_bu_pp_upd.get(x['user_id'])]\n",
    "    else: \n",
    "        y = bestSVDpp.pu[mapping_bu_pp_upd.get(1)]\n",
    "        \n",
    "    if mapping_bi_pp_upd.get(x['wine_id_wine']):\n",
    "        z = bestSVDpp.qi[mapping_bi_pp_upd.get(x['wine_id_wine'])]\n",
    "    elif mapping_bi_pp_upd.get(x['wine_id_wine'])==0:\n",
    "        z = bestSVDpp.qi[mapping_bi_pp_upd.get(x['wine_id_wine'])]\n",
    "    else:\n",
    "        z = bestSVDpp.qi[mapping_bi_pp_upd.get(-1)]\n",
    "        \n",
    "    return np.dot(y,z)\n",
    "    \n",
    "scalar = data_train.apply(svd_scalar_map_pp_upd, axis=1).as_matrix()\n",
    "scalar_test = data_test.apply(svd_scalar_map_pp_upd, axis=1).as_matrix()"
   ]
  },
  {
   "cell_type": "code",
   "execution_count": 62,
   "metadata": {},
   "outputs": [],
   "source": [
    "mu = data_train['common_normalized_rating'].values.mean()         # вычисляем средний рейтинг на обучающей выборке\n",
    "\n",
    "# реализуем предсказание SVD++: помимо сложения смещений по пользователю и вину и скалярного gроизведения факторов\n",
    "# учтем неявные факторы (посчитанные по винам, которые пользователь оценил ранее)\n",
    "def svd_plusplus(x):                                              \n",
    "    us = x['user_id']                                             \n",
    "    if svd_data[svd_data.user_id==us].empty:                              # здесь получаем набор вин, оцененных \n",
    "        Iu = svd_data[svd_data.user_id==1].wine_id_wine.values.tolist()   # пользователем и их число\n",
    "        mod_Iu = np.power(len(Iu), -0.5)                                  \n",
    "    else: \n",
    "        Iu = svd_data[svd_data.user_id==us].wine_id_wine.values.tolist()\n",
    "        mod_Iu = np.power(len(Iu), -0.5)\n",
    "    yj = 0\n",
    "    for j in Iu:                                                          # получаем неявные факторы по ним для\n",
    "        yj += bestSVDpp.yj[mapping_bi_pp_upd.get(j)]                      # пользователей\n",
    "    yj = yj*mod_Iu\n",
    "    if mapping_bu_pp_upd.get(x['user_id']):                               # учитываем неявные факторы с общими\n",
    "        y = bestSVDpp.pu[mapping_bu_pp_upd.get(x['user_id'])] + yj        # факторами пользователей, получаем\n",
    "        bu = bestSVDpp.bu[mapping_bu_pp_upd.get(x['user_id'])]            # смещение по пользователю\n",
    "    elif mapping_bu_pp_upd.get(x['user_id'])==0:                          # (помним, что id м.б. OutOfVocabulary)\n",
    "        y = bestSVDpp.pu[mapping_bu_pp_upd.get(x['user_id'])] + yj\n",
    "        bu = bestSVDpp.bu[mapping_bu_pp_upd.get(x['user_id'])]\n",
    "    else: \n",
    "        y = bestSVDpp.pu[mapping_bu_pp_upd.get(1)] + yj\n",
    "        bu = bestSVDpp.bu[mapping_bu_pp_upd.get(1)]\n",
    "    if mapping_bi_pp_upd.get(x['wine_id_wine']):                          # получаем факторы вина и смещение по \n",
    "        z = bestSVDpp.qi[mapping_bi_pp_upd.get(x['wine_id_wine'])]        # вину\n",
    "        bi = bestSVDpp.bi[mapping_bi_pp_upd.get(x['wine_id_wine'])]\n",
    "    elif mapping_bi_pp_upd.get(x['wine_id_wine'])==0:\n",
    "        z = bestSVDpp.qi[mapping_bi_pp_upd.get(x['wine_id_wine'])]\n",
    "        bi = bestSVDpp.bi[mapping_bi_pp_upd.get(x['wine_id_wine'])]\n",
    "    else:\n",
    "        z = bestSVDpp.qi[mapping_bi_pp_upd.get(-1)]\n",
    "        bi = bestSVDpp.bi[mapping_bi_pp_upd.get(-1)]\n",
    "    return mu + bu + bi + np.dot(y,z)                                     # выдаём скалярное произведение факторов\n",
    "                                                                          # с поправкой на среднее и смещения как \n",
    "                                                                          # результат\n",
    "\n",
    "res_train = data_train.apply(svd_plusplus, axis=1).as_matrix()\n",
    "res_test = data_test.apply(svd_plusplus, axis=1).as_matrix()"
   ]
  },
  {
   "cell_type": "code",
   "execution_count": 63,
   "metadata": {},
   "outputs": [
    {
     "name": "stdout",
     "output_type": "stream",
     "text": [
      "Train MAE:  0.564142154375844 \tTrain RMSE:  0.6718511523017839\n",
      "Test MAE:  0.5866675461032429 \tTest RMSE:  0.6921062058932866\n"
     ]
    }
   ],
   "source": [
    "print('Train MAE: ', metrics.mean_absolute_error(res_train, data_train['common_normalized_rating']),\n",
    "      '\\tTrain RMSE: ', metrics.mean_squared_error(res_train, data_train['common_normalized_rating']))\n",
    "print('Test MAE: ', metrics.mean_absolute_error(res_test, data_test['common_normalized_rating']), '\\tTest RMSE: ', \n",
    "      metrics.mean_squared_error(res_test, data_test['common_normalized_rating']))"
   ]
  },
  {
   "cell_type": "markdown",
   "metadata": {},
   "source": [
    "Качество предсказаний совсем не улучшается, неудивительно, ведь мы сильно сократили датасет и участвующих в нем пользователей. Посмотрим на влияние факторов на xgboost."
   ]
  },
  {
   "cell_type": "markdown",
   "metadata": {},
   "source": [
    "## XGBoost с параметрами SVD-разложения"
   ]
  },
  {
   "cell_type": "code",
   "execution_count": 64,
   "metadata": {},
   "outputs": [],
   "source": [
    "X_train, X_test, y_train, y_test = make_X_y()\n",
    "\n",
    "X_train['user_bias'] = pd.Series(bu_upd, index=X_train.index)\n",
    "X_train['wine_bias'] = pd.Series(bi_upd, index=X_train.index)\n",
    "X_test['user_bias'] = pd.Series(bu_upd_test, index=X_test.index)\n",
    "X_test['wine_bias'] = pd.Series(bi_upd_test, index=X_test.index)\n",
    "\n",
    "imp_columns = X_train.columns"
   ]
  },
  {
   "cell_type": "code",
   "execution_count": 65,
   "metadata": {},
   "outputs": [
    {
     "name": "stdout",
     "output_type": "stream",
     "text": [
      "Обучение:  (81927, 54) \t\tТест:  (15300, 54)\n"
     ]
    }
   ],
   "source": [
    "X_train = preprocessor.fit_transform(X_train)\n",
    "X_test = preprocessor.transform(X_test)\n",
    "print('Обучение: ', X_train.shape, '\\t\\tТест: ', X_test.shape)"
   ]
  },
  {
   "cell_type": "code",
   "execution_count": 66,
   "metadata": {},
   "outputs": [],
   "source": [
    "evals_result_upd_bias, importances_upd_bias = xgb_reg(X_train, y_train, X_test, y_test, imp_columns)"
   ]
  },
  {
   "cell_type": "code",
   "execution_count": 67,
   "metadata": {},
   "outputs": [
    {
     "name": "stdout",
     "output_type": "stream",
     "text": [
      "[0.724862, 0.675614, 0.636364, 0.604471, 0.577541, 0.554791, 0.53563, 0.519248, 0.505064, 0.493024]\n"
     ]
    },
    {
     "data": {
      "image/png": "[encoded data removed]",
      "text/plain": [
       "<Figure size 1080x360 with 2 Axes>"
      ]
     },
     "metadata": {
      "needs_background": "light"
     },
     "output_type": "display_data"
    }
   ],
   "source": [
    "train_rmse_upd_bias, train_mae_upd_bias, test_rmse_upd_bias, test_mae_upd_bias = show_evals(evals_result_upd_bias)\n",
    "plot_compare(train_evals_mae, 'train MAE', train_mae_upd_bias, 'train MAE with bias', test_evals_mae, 'test MAE', \n",
    "             test_mae_upd_bias, 'test MAE with bias')"
   ]
  },
  {
   "cell_type": "code",
   "execution_count": 68,
   "metadata": {},
   "outputs": [],
   "source": [
    "X_train, X_test, y_train, y_test = make_X_y()\n",
    "\n",
    "X_train['svd_scalar'] = pd.Series(scalar, index=X_train.index)\n",
    "X_test['svd_scalar'] = pd.Series(scalar_test, index=X_test.index)\n",
    "\n",
    "imp_columns = X_train.columns"
   ]
  },
  {
   "cell_type": "code",
   "execution_count": 69,
   "metadata": {},
   "outputs": [
    {
     "name": "stdout",
     "output_type": "stream",
     "text": [
      "Обучение:  (81927, 53) Тест:  (15300, 53)\n"
     ]
    }
   ],
   "source": [
    "X_train = preprocessor.fit_transform(X_train)\n",
    "X_test = preprocessor.transform(X_test)\n",
    "print('Обучение: ', X_train.shape, 'Тест: ', X_test.shape)"
   ]
  },
  {
   "cell_type": "code",
   "execution_count": 70,
   "metadata": {},
   "outputs": [],
   "source": [
    "evals_result_upd_scal, importances_upd_scal = xgb_reg(X_train, y_train, X_test, y_test, imp_columns)"
   ]
  },
  {
   "cell_type": "code",
   "execution_count": 71,
   "metadata": {},
   "outputs": [
    {
     "name": "stdout",
     "output_type": "stream",
     "text": [
      "[0.726559, 0.679004, 0.642395, 0.611693, 0.5857, 0.564194, 0.545698, 0.530009, 0.516805, 0.505274]\n"
     ]
    },
    {
     "data": {
      "image/png": "[encoded data removed]",
      "text/plain": [
       "<Figure size 1080x360 with 2 Axes>"
      ]
     },
     "metadata": {
      "needs_background": "light"
     },
     "output_type": "display_data"
    }
   ],
   "source": [
    "train_rmse_upd_scal, train_mae_upd_scal, test_rmse_upd_scal, test_mae_upd_scal = show_evals(evals_result_upd_scal)\n",
    "plot_compare(train_evals_mae, 'train MAE', train_rmse_upd_scal, 'train MAE with scalar', test_evals_mae, \n",
    "             'test MAE', test_mae_upd_scal, 'test MAE with scalar')"
   ]
  },
  {
   "cell_type": "code",
   "execution_count": 72,
   "metadata": {},
   "outputs": [],
   "source": [
    "X_train, X_test, y_train, y_test = make_X_y()\n",
    "\n",
    "X_train['svd_sum'] = pd.Series(res_train, index=X_train.index)\n",
    "X_test['svd_sum'] = pd.Series(res_test, index=X_test.index)\n",
    "\n",
    "imp_columns = X_train.columns"
   ]
  },
  {
   "cell_type": "code",
   "execution_count": 73,
   "metadata": {},
   "outputs": [
    {
     "name": "stdout",
     "output_type": "stream",
     "text": [
      "Обучение:  (81927, 53) Тест:  (15300, 53)\n"
     ]
    }
   ],
   "source": [
    "X_train = preprocessor.fit_transform(X_train)\n",
    "X_test = preprocessor.transform(X_test)\n",
    "print('Обучение: ', X_train.shape, 'Тест: ', X_test.shape)"
   ]
  },
  {
   "cell_type": "code",
   "execution_count": 74,
   "metadata": {},
   "outputs": [],
   "source": [
    "evals_result_upd_sum, importances_upd_sum = xgb_reg(X_train, y_train, X_test, y_test, imp_columns)"
   ]
  },
  {
   "cell_type": "code",
   "execution_count": 75,
   "metadata": {},
   "outputs": [
    {
     "name": "stdout",
     "output_type": "stream",
     "text": [
      "[0.727728, 0.680097, 0.642431, 0.61193, 0.586128, 0.563719, 0.54484, 0.52887, 0.515418, 0.503722]\n"
     ]
    },
    {
     "data": {
      "image/png": "[encoded data removed]",
      "text/plain": [
       "<Figure size 1080x360 with 2 Axes>"
      ]
     },
     "metadata": {
      "needs_background": "light"
     },
     "output_type": "display_data"
    }
   ],
   "source": [
    "train_rmse_upd_sum, train_mae_upd_sum, test_rmse_upd_sum, test_mae_upd_sum = show_evals(evals_result_upd_sum)\n",
    "plot_compare(train_evals_mae, 'train MAE', train_mae_upd_sum, 'train MAE with sum', test_evals_mae, 'test MAE', \n",
    "             test_mae_upd_sum, 'test MAE with sum')"
   ]
  },
  {
   "cell_type": "code",
   "execution_count": 76,
   "metadata": {},
   "outputs": [
    {
     "data": {
      "text/plain": [
       "<BarContainer object of 34 artists>"
      ]
     },
     "execution_count": 76,
     "metadata": {},
     "output_type": "execute_result"
    },
    {
     "data": {
      "image/png": "[encoded data removed]",
      "text/plain": [
       "<Figure size 1440x504 with 1 Axes>"
      ]
     },
     "metadata": {
      "needs_background": "light"
     },
     "output_type": "display_data"
    }
   ],
   "source": [
    "fig = plt.figure(figsize=(20, 7))\n",
    "plt.barh(*zip(*sorted(importances_upd_sum.items(), key=lambda x:x[1])))"
   ]
  },
  {
   "cell_type": "markdown",
   "metadata": {},
   "source": [
    "Результаты показывают, что строгое отсечение пользователей со слишком короткой историей взаимодействия показывает не лучшее качество, чем xgboost, обученный только на числовых признаках, но и не переобучается так сильно, как при обучении на сырых данных. Тем не менее, добавление параметров матричной факторизации не дает заметного улучшения качества предсказаний, и, похоже, в этой задаче SVD нам не товарищ. Можно было бы, пожалуй, ещё позаниматься отбором  выборки для SVD++, но это скорее всего не даст нам особого прироста, а данные будут ещё более синтетическими. \n",
    "\n",
    "Однако у нас есть ещё неиспользованные текстовые признаки, которые несут в себе немало информации для предсказания оценки. Остаётся прибегнуть к анализу текстов."
   ]
  },
  {
   "cell_type": "markdown",
   "metadata": {},
   "source": [
    "## Tf-IDF"
   ]
  },
  {
   "cell_type": "markdown",
   "metadata": {},
   "source": [
    "С помощью меры tf-idf выделим наиболее важные (весомые) слова среди плохих и хороших отзывов. Так у нас появится срез слов, которые будут отражать позитивные и негативные нюансы текстового описания вина. Добавление информации о вхождении этих в слов в отзыв должен повысит качество предсказаниясамой оценки.\n",
    "\n",
    "Тут мы, конечно, лукавим, так как в реальности у нас никогда не будет возможности посмотреть на отзыв отдельно от оценки, и такой подход всё-таки является заглядыванием в будущее. Тем не менее, интересно будет посмотреть на такую искусственную модель."
   ]
  },
  {
   "cell_type": "markdown",
   "metadata": {},
   "source": [
    "Возьмём хорошо оцененные вина и объединим их текстовое описание для каждого пользователя. Делается это исходя из того, что tf-idf взвешивается лучше на больших корпусах текста."
   ]
  },
  {
   "cell_type": "code",
   "execution_count": 114,
   "metadata": {},
   "outputs": [
    {
     "data": {
      "text/html": [
       "<div>\n",
       "<style scoped>\n",
       "    .dataframe tbody tr th:only-of-type {\n",
       "        vertical-align: middle;\n",
       "    }\n",
       "\n",
       "    .dataframe tbody tr th {\n",
       "        vertical-align: top;\n",
       "    }\n",
       "\n",
       "    .dataframe thead th {\n",
       "        text-align: right;\n",
       "    }\n",
       "</style>\n",
       "<table border=\"1\" class=\"dataframe\">\n",
       "  <thead>\n",
       "    <tr style=\"text-align: right;\">\n",
       "      <th></th>\n",
       "      <th>coment</th>\n",
       "    </tr>\n",
       "    <tr>\n",
       "      <th>user_id</th>\n",
       "      <th></th>\n",
       "    </tr>\n",
       "  </thead>\n",
       "  <tbody>\n",
       "    <tr>\n",
       "      <th>2954.0</th>\n",
       "      <td>Celebrating the 70th anniversary of the libera...</td>\n",
       "    </tr>\n",
       "    <tr>\n",
       "      <th>8868.0</th>\n",
       "      <td>Spicy and full. Really good!</td>\n",
       "    </tr>\n",
       "    <tr>\n",
       "      <th>8968.0</th>\n",
       "      <td>Non vintaged (yes yes)\\noutstanding winy champ...</td>\n",
       "    </tr>\n",
       "    <tr>\n",
       "      <th>24200.0</th>\n",
       "      <td>A magnificent magnum purchased 7 years ago. Ve...</td>\n",
       "    </tr>\n",
       "    <tr>\n",
       "      <th>28125.0</th>\n",
       "      <td>Dark fruit intensive with oak-driven flavours....</td>\n",
       "    </tr>\n",
       "  </tbody>\n",
       "</table>\n",
       "</div>"
      ],
      "text/plain": [
       "                                                    coment\n",
       "user_id                                                   \n",
       "2954.0   Celebrating the 70th anniversary of the libera...\n",
       "8868.0                        Spicy and full. Really good!\n",
       "8968.0   Non vintaged (yes yes)\\noutstanding winy champ...\n",
       "24200.0  A magnificent magnum purchased 7 years ago. Ve...\n",
       "28125.0  Dark fruit intensive with oak-driven flavours...."
      ]
     },
     "execution_count": 114,
     "metadata": {},
     "output_type": "execute_result"
    }
   ],
   "source": [
    "df3 = data_train[data_train['rating'] > 4.5][['user_id', 'wine_id_wine', 'wine_description', 'coment']]\n",
    "df3.dropna(subset=['wine_id_wine', 'coment'], inplace=True)\n",
    "\n",
    "df_good_user_coments = df3.groupby('user_id').agg({'coment': ' '.join})\n",
    "df_good_user_coments.head()"
   ]
  },
  {
   "cell_type": "code",
   "execution_count": 115,
   "metadata": {},
   "outputs": [],
   "source": [
    "from langdetect import detect\n",
    "import re \n",
    "RE_EMOJI = re.compile('[\\U00010000-\\U0010ffff]', flags=re.UNICODE)\n",
    "\n",
    "min_symbols = 10\n",
    "def detectLanguage(text):\n",
    "    filtered = RE_EMOJI.sub(r'', text[0])        # remove emodzi\n",
    "    try:\n",
    "        if(len(filtered) < min_symbols):\n",
    "            return \"unknown\"\n",
    "        else:\n",
    "            return detect(filtered)\n",
    "    except:\n",
    "        return \"unknown\"\n",
    "\n",
    "df_good_user_coments[\"lang\"] = df_good_user_coments[['coment']].apply(detectLanguage, axis=1)"
   ]
  },
  {
   "cell_type": "code",
   "execution_count": 116,
   "metadata": {},
   "outputs": [
    {
     "data": {
      "text/plain": [
       "en         3031\n",
       "af           65\n",
       "pt           38\n",
       "unknown      35\n",
       "es           30\n",
       "fr           26\n",
       "it           24\n",
       "nl           19\n",
       "Name: lang, dtype: int64"
      ]
     },
     "execution_count": 116,
     "metadata": {},
     "output_type": "execute_result"
    }
   ],
   "source": [
    "df_good_user_coments.lang.value_counts()[:8]"
   ]
  },
  {
   "cell_type": "code",
   "execution_count": 117,
   "metadata": {},
   "outputs": [],
   "source": [
    "import string\n",
    "import nltk\n",
    "\n",
    "def text_preprocess(row):\n",
    "    # приводим все слова к тексте к маленьким буквам\n",
    "    row = row.lower()\n",
    "    # вырезаем пунктуацию - переводим все знаки в пустую строку с пом. str.translate\n",
    "    table = str.maketrans('', '', string.punctuation)\n",
    "    row = row.translate(table)\n",
    "    # переводим все числа в слово num(оно более информативно для анализа) регулярными выражениями\n",
    "    row = re.sub(r'\\d+', 'num', row)\n",
    "    # удаляем смайлики\n",
    "    row =  RE_EMOJI.sub(r'', row)     \n",
    "    \n",
    "    # из nltk заимствуем стоп-лист слов, переводим его в множество для ускорения\n",
    "    # НО! Если посмотреть на стоп-лист внимательнее, обнаружим там отрицательные частицы типа \"не\". Их обязательно\n",
    "    # нужно оставить, так как мы хотим в дальнейшем получить 1- и 2-граммы для плохих отзывов\n",
    "    stopwords = set(nltk.corpus.stopwords.words('english') + ['reuter', '\\x03'])\n",
    "    not_stopwords = {'not', 'no', 'nor'} \n",
    "    final_stop_words = set([word for word in stopwords if word not in not_stopwords])\n",
    "\n",
    "    row = [word for word in row.split() if word not in final_stop_words]\n",
    "    \n",
    "    # стеммируем очищенный текст\n",
    "    stemmer = nltk.stem.PorterStemmer()\n",
    "    row = [\" \".join([stemmer.stem(word) for word in row])]\n",
    "    return row[0]"
   ]
  },
  {
   "cell_type": "code",
   "execution_count": 118,
   "metadata": {},
   "outputs": [],
   "source": [
    "df_good_user_coments = df_good_user_coments[df_good_user_coments.lang=='en']"
   ]
  },
  {
   "cell_type": "code",
   "execution_count": 119,
   "metadata": {},
   "outputs": [],
   "source": [
    "df_good_user_coments['preprocessed'] = df_good_user_coments['coment'].apply(text_preprocess)"
   ]
  },
  {
   "cell_type": "code",
   "execution_count": 120,
   "metadata": {},
   "outputs": [
    {
     "data": {
      "text/html": [
       "<div>\n",
       "<style scoped>\n",
       "    .dataframe tbody tr th:only-of-type {\n",
       "        vertical-align: middle;\n",
       "    }\n",
       "\n",
       "    .dataframe tbody tr th {\n",
       "        vertical-align: top;\n",
       "    }\n",
       "\n",
       "    .dataframe thead th {\n",
       "        text-align: right;\n",
       "    }\n",
       "</style>\n",
       "<table border=\"1\" class=\"dataframe\">\n",
       "  <thead>\n",
       "    <tr style=\"text-align: right;\">\n",
       "      <th></th>\n",
       "      <th>coment</th>\n",
       "      <th>lang</th>\n",
       "      <th>preprocessed</th>\n",
       "    </tr>\n",
       "    <tr>\n",
       "      <th>user_id</th>\n",
       "      <th></th>\n",
       "      <th></th>\n",
       "      <th></th>\n",
       "    </tr>\n",
       "  </thead>\n",
       "  <tbody>\n",
       "    <tr>\n",
       "      <th>2954.0</th>\n",
       "      <td>Celebrating the 70th anniversary of the libera...</td>\n",
       "      <td>en</td>\n",
       "      <td>celebr numth anniversari liber denmark candl w...</td>\n",
       "    </tr>\n",
       "    <tr>\n",
       "      <th>8868.0</th>\n",
       "      <td>Spicy and full. Really good!</td>\n",
       "      <td>en</td>\n",
       "      <td>spici full realli good</td>\n",
       "    </tr>\n",
       "    <tr>\n",
       "      <th>8968.0</th>\n",
       "      <td>Non vintaged (yes yes)\\noutstanding winy champ...</td>\n",
       "      <td>en</td>\n",
       "      <td>non vintag ye ye outstand wini champagn non so...</td>\n",
       "    </tr>\n",
       "    <tr>\n",
       "      <th>24200.0</th>\n",
       "      <td>A magnificent magnum purchased 7 years ago. Ve...</td>\n",
       "      <td>en</td>\n",
       "      <td>magnific magnum purchas num year ago soft matu...</td>\n",
       "    </tr>\n",
       "    <tr>\n",
       "      <th>28125.0</th>\n",
       "      <td>Dark fruit intensive with oak-driven flavours....</td>\n",
       "      <td>en</td>\n",
       "      <td>dark fruit intens oakdriven flavour rich dens ...</td>\n",
       "    </tr>\n",
       "  </tbody>\n",
       "</table>\n",
       "</div>"
      ],
      "text/plain": [
       "                                                    coment lang  \\\n",
       "user_id                                                           \n",
       "2954.0   Celebrating the 70th anniversary of the libera...   en   \n",
       "8868.0                        Spicy and full. Really good!   en   \n",
       "8968.0   Non vintaged (yes yes)\\noutstanding winy champ...   en   \n",
       "24200.0  A magnificent magnum purchased 7 years ago. Ve...   en   \n",
       "28125.0  Dark fruit intensive with oak-driven flavours....   en   \n",
       "\n",
       "                                              preprocessed  \n",
       "user_id                                                     \n",
       "2954.0   celebr numth anniversari liber denmark candl w...  \n",
       "8868.0                              spici full realli good  \n",
       "8968.0   non vintag ye ye outstand wini champagn non so...  \n",
       "24200.0  magnific magnum purchas num year ago soft matu...  \n",
       "28125.0  dark fruit intens oakdriven flavour rich dens ...  "
      ]
     },
     "execution_count": 120,
     "metadata": {},
     "output_type": "execute_result"
    }
   ],
   "source": [
    "df_good_user_coments.head()"
   ]
  },
  {
   "cell_type": "markdown",
   "metadata": {},
   "source": [
    "Векторизуем полученные корпуса, ищем слова и пары слов. Сразу отсечём слишком часто встречающиеся, а значит неинформативные слова и словосочетания."
   ]
  },
  {
   "cell_type": "code",
   "execution_count": 121,
   "metadata": {},
   "outputs": [],
   "source": [
    "vect = TfidfVectorizer(ngram_range=(1,2), max_df=0.8, min_df=1)"
   ]
  },
  {
   "cell_type": "code",
   "execution_count": 122,
   "metadata": {},
   "outputs": [
    {
     "name": "stdout",
     "output_type": "stream",
     "text": [
      "CPU times: user 178 ms, sys: 293 µs, total: 178 ms\n",
      "Wall time: 177 ms\n"
     ]
    }
   ],
   "source": [
    "%%time\n",
    "good_coment_vectorized = vect.fit_transform(df_good_user_coments['preprocessed'])"
   ]
  },
  {
   "cell_type": "code",
   "execution_count": 123,
   "metadata": {},
   "outputs": [
    {
     "data": {
      "text/plain": [
       "<3031x41168 sparse matrix of type '<class 'numpy.float64'>'\n",
       "\twith 96099 stored elements in Compressed Sparse Row format>"
      ]
     },
     "execution_count": 123,
     "metadata": {},
     "output_type": "execute_result"
    }
   ],
   "source": [
    "good_coment_vectorized"
   ]
  },
  {
   "cell_type": "code",
   "execution_count": 124,
   "metadata": {},
   "outputs": [],
   "source": [
    "good_words_list = vect.get_feature_names()\n",
    "good_com_arr = good_coment_vectorized.toarray()\n",
    "good_words_stat = []        \n",
    "\n",
    "for i in range(good_com_arr.shape[1]):\n",
    "    meet = [j for j in good_com_arr[:,i] if j!=0]\n",
    "    num_meet = len(meet)\n",
    "    mean_tfidf = np.sum(meet)/num_meet\n",
    "    if num_meet > 20:                \n",
    "        good_words_stat.append((good_words_list[i], num_meet, mean_tfidf))\n",
    "good_words_stat = sorted(good_words_stat, key=lambda x: (-x[2], -x[1]))"
   ]
  },
  {
   "cell_type": "markdown",
   "metadata": {},
   "source": [
    "Возьмём 20 самых важных слов (предварительно указав, что они должны встречаться не менее, чем в 20 документах - частотность тоже решает!)."
   ]
  },
  {
   "cell_type": "code",
   "execution_count": 125,
   "metadata": {},
   "outputs": [
    {
     "name": "stdout",
     "output_type": "stream",
     "text": [
      "468\n",
      "[('sweet fruiti', 25, 0.36862835850310616), ('fruiti sweet', 22, 0.36357244835954294), ('good wine', 35, 0.302092604228855), ('not dri', 36, 0.29949352952745156), ('favorit wine', 32, 0.2969326908197458), ('great tast', 22, 0.28966207138428124), ('one favorit', 63, 0.2751887125681149), ('yummi', 23, 0.26998858321803143), ('fruiti not', 21, 0.25944140581989933), ('sweet not', 34, 0.2583710658257779), ('excel wine', 25, 0.2574658697773551), ('love wine', 44, 0.25431438315307503), ('great valu', 22, 0.2502643340160357), ('easi drink', 60, 0.2446784632699798), ('tasti', 43, 0.2427760030727076), ('not sweet', 65, 0.23287676818426076), ('refresh', 90, 0.2324237508184023), ('sweet wine', 27, 0.22893701584129744), ('white wine', 27, 0.22697946695859092), ('new year', 23, 0.2234812699474656)]\n"
     ]
    }
   ],
   "source": [
    "print(len(good_words_stat))\n",
    "top_good_words = good_words_stat[:20]\n",
    "print(top_good_words)"
   ]
  },
  {
   "cell_type": "markdown",
   "metadata": {},
   "source": [
    "Топ слов выглядит убедительно: много слов и словосочетаний с позитивной оценкой. Немного выбивается из стройного ряда эпитетов \"not dri\", но вне контекста отзыва сложно идентифицировать, что отражает эта пара слов.\n",
    "\n",
    "Получим такой же анти-топ важных слов для плохих отзывов."
   ]
  },
  {
   "cell_type": "code",
   "execution_count": 126,
   "metadata": {},
   "outputs": [
    {
     "data": {
      "text/html": [
       "<div>\n",
       "<style scoped>\n",
       "    .dataframe tbody tr th:only-of-type {\n",
       "        vertical-align: middle;\n",
       "    }\n",
       "\n",
       "    .dataframe tbody tr th {\n",
       "        vertical-align: top;\n",
       "    }\n",
       "\n",
       "    .dataframe thead th {\n",
       "        text-align: right;\n",
       "    }\n",
       "</style>\n",
       "<table border=\"1\" class=\"dataframe\">\n",
       "  <thead>\n",
       "    <tr style=\"text-align: right;\">\n",
       "      <th></th>\n",
       "      <th>coment</th>\n",
       "    </tr>\n",
       "    <tr>\n",
       "      <th>user_id</th>\n",
       "      <th></th>\n",
       "    </tr>\n",
       "  </thead>\n",
       "  <tbody>\n",
       "    <tr>\n",
       "      <th>2764.0</th>\n",
       "      <td>Dark fruit character, evident residual sugar, ...</td>\n",
       "    </tr>\n",
       "    <tr>\n",
       "      <th>3299.0</th>\n",
       "      <td>Lacking, thin, monotone.</td>\n",
       "    </tr>\n",
       "    <tr>\n",
       "      <th>16274.0</th>\n",
       "      <td>Fresh fruit and Medium body. Ok finish. Fresh ...</td>\n",
       "    </tr>\n",
       "    <tr>\n",
       "      <th>16603.0</th>\n",
       "      <td>Not sure if it was Wine !!! Not pleasant</td>\n",
       "    </tr>\n",
       "    <tr>\n",
       "      <th>19696.0</th>\n",
       "      <td>Not a bad little wine. Low cost; it doesn't re...</td>\n",
       "    </tr>\n",
       "  </tbody>\n",
       "</table>\n",
       "</div>"
      ],
      "text/plain": [
       "                                                    coment\n",
       "user_id                                                   \n",
       "2764.0   Dark fruit character, evident residual sugar, ...\n",
       "3299.0                           Lacking, thin, monotone. \n",
       "16274.0  Fresh fruit and Medium body. Ok finish. Fresh ...\n",
       "16603.0           Not sure if it was Wine !!! Not pleasant\n",
       "19696.0  Not a bad little wine. Low cost; it doesn't re..."
      ]
     },
     "execution_count": 126,
     "metadata": {},
     "output_type": "execute_result"
    }
   ],
   "source": [
    "df4 = data_train[data_train['rating'] < 3][['user_id', 'wine_id_wine', 'wine_description', 'coment']]\n",
    "df4.dropna(subset=['wine_id_wine', 'coment'], inplace=True)\n",
    "\n",
    "df_bad_user_coments = df4.groupby('user_id').agg({'coment': ' '.join})\n",
    "df_bad_user_coments.head()"
   ]
  },
  {
   "cell_type": "code",
   "execution_count": 127,
   "metadata": {},
   "outputs": [
    {
     "data": {
      "text/plain": [
       "en         2269\n",
       "pt           59\n",
       "es           51\n",
       "af           50\n",
       "unknown      37\n",
       "it           35\n",
       "no           28\n",
       "nl           23\n",
       "Name: lang, dtype: int64"
      ]
     },
     "execution_count": 127,
     "metadata": {},
     "output_type": "execute_result"
    }
   ],
   "source": [
    "df_bad_user_coments[\"lang\"] = df_bad_user_coments[['coment']].apply(detectLanguage, axis=1)\n",
    "df_bad_user_coments.lang.value_counts()[:8]"
   ]
  },
  {
   "cell_type": "code",
   "execution_count": 128,
   "metadata": {},
   "outputs": [
    {
     "data": {
      "text/html": [
       "<div>\n",
       "<style scoped>\n",
       "    .dataframe tbody tr th:only-of-type {\n",
       "        vertical-align: middle;\n",
       "    }\n",
       "\n",
       "    .dataframe tbody tr th {\n",
       "        vertical-align: top;\n",
       "    }\n",
       "\n",
       "    .dataframe thead th {\n",
       "        text-align: right;\n",
       "    }\n",
       "</style>\n",
       "<table border=\"1\" class=\"dataframe\">\n",
       "  <thead>\n",
       "    <tr style=\"text-align: right;\">\n",
       "      <th></th>\n",
       "      <th>coment</th>\n",
       "      <th>lang</th>\n",
       "      <th>preprocessed</th>\n",
       "    </tr>\n",
       "    <tr>\n",
       "      <th>user_id</th>\n",
       "      <th></th>\n",
       "      <th></th>\n",
       "      <th></th>\n",
       "    </tr>\n",
       "  </thead>\n",
       "  <tbody>\n",
       "    <tr>\n",
       "      <th>2764.0</th>\n",
       "      <td>Dark fruit character, evident residual sugar, ...</td>\n",
       "      <td>en</td>\n",
       "      <td>dark fruit charact evid residu sugar high alco...</td>\n",
       "    </tr>\n",
       "    <tr>\n",
       "      <th>3299.0</th>\n",
       "      <td>Lacking, thin, monotone.</td>\n",
       "      <td>en</td>\n",
       "      <td>lack thin monoton</td>\n",
       "    </tr>\n",
       "    <tr>\n",
       "      <th>16274.0</th>\n",
       "      <td>Fresh fruit and Medium body. Ok finish. Fresh ...</td>\n",
       "      <td>en</td>\n",
       "      <td>fresh fruit medium bodi ok finish fresh light ...</td>\n",
       "    </tr>\n",
       "    <tr>\n",
       "      <th>16603.0</th>\n",
       "      <td>Not sure if it was Wine !!! Not pleasant</td>\n",
       "      <td>en</td>\n",
       "      <td>not sure wine not pleasant</td>\n",
       "    </tr>\n",
       "    <tr>\n",
       "      <th>19696.0</th>\n",
       "      <td>Not a bad little wine. Low cost; it doesn't re...</td>\n",
       "      <td>en</td>\n",
       "      <td>not bad littl wine low cost doesnt realli tast...</td>\n",
       "    </tr>\n",
       "  </tbody>\n",
       "</table>\n",
       "</div>"
      ],
      "text/plain": [
       "                                                    coment lang  \\\n",
       "user_id                                                           \n",
       "2764.0   Dark fruit character, evident residual sugar, ...   en   \n",
       "3299.0                           Lacking, thin, monotone.    en   \n",
       "16274.0  Fresh fruit and Medium body. Ok finish. Fresh ...   en   \n",
       "16603.0           Not sure if it was Wine !!! Not pleasant   en   \n",
       "19696.0  Not a bad little wine. Low cost; it doesn't re...   en   \n",
       "\n",
       "                                              preprocessed  \n",
       "user_id                                                     \n",
       "2764.0   dark fruit charact evid residu sugar high alco...  \n",
       "3299.0                                   lack thin monoton  \n",
       "16274.0  fresh fruit medium bodi ok finish fresh light ...  \n",
       "16603.0                         not sure wine not pleasant  \n",
       "19696.0  not bad littl wine low cost doesnt realli tast...  "
      ]
     },
     "execution_count": 128,
     "metadata": {},
     "output_type": "execute_result"
    }
   ],
   "source": [
    "df_bad_user_coments = df_bad_user_coments[df_bad_user_coments.lang=='en']\n",
    "df_bad_user_coments['preprocessed'] = df_bad_user_coments['coment'].apply(text_preprocess)\n",
    "df_bad_user_coments.head()"
   ]
  },
  {
   "cell_type": "code",
   "execution_count": 129,
   "metadata": {},
   "outputs": [
    {
     "name": "stdout",
     "output_type": "stream",
     "text": [
      "CPU times: user 151 ms, sys: 0 ns, total: 151 ms\n",
      "Wall time: 149 ms\n"
     ]
    }
   ],
   "source": [
    "%%time\n",
    "bad_coment_vectorized = vect.fit_transform(df_bad_user_coments['preprocessed'].values)"
   ]
  },
  {
   "cell_type": "code",
   "execution_count": 130,
   "metadata": {},
   "outputs": [],
   "source": [
    "bad_words_list = vect.get_feature_names()\n",
    "bad_com_arr = bad_coment_vectorized.toarray()\n",
    "bad_words_stat = []            \n",
    "\n",
    "for i in range(bad_com_arr.shape[1]):\n",
    "    meet = [j for j in bad_com_arr[:,i] if j!=0]\n",
    "    num_meet = len(meet)\n",
    "    mean_tfidf = np.sum(meet)/num_meet\n",
    "    if num_meet > 20:                \n",
    "        bad_words_stat.append((bad_words_list[i], num_meet, mean_tfidf))\n",
    "bad_words_stat = sorted(bad_words_stat, key=lambda x: (-x[2], -x[1]))"
   ]
  },
  {
   "cell_type": "code",
   "execution_count": 131,
   "metadata": {},
   "outputs": [
    {
     "name": "stdout",
     "output_type": "stream",
     "text": [
      "383\n",
      "[('not great', 30, 0.27523169282627724), ('sweet tast', 24, 0.26028004840886704), ('sweet not', 24, 0.2597680477949295), ('cheap wine', 23, 0.22140056091787902), ('okay', 33, 0.20922789164079017), ('good valu', 24, 0.20688974526010076), ('tabl wine', 53, 0.20474862564789606), ('favorit', 22, 0.20121078911293167), ('good wine', 23, 0.1903998620141132), ('noth special', 56, 0.1900308498786856), ('cook', 43, 0.18745481750235202), ('money', 28, 0.18646128798817974), ('water', 33, 0.18467499201209894), ('tabl', 67, 0.18206148268663958), ('everyday', 21, 0.1812113303517764), ('not good', 51, 0.18086091421297307), ('sweeter', 27, 0.17333054734786751), ('dinner', 23, 0.1703707022467636), ('special', 75, 0.16853906505471006), ('harsh', 34, 0.16799674059037376)]\n"
     ]
    }
   ],
   "source": [
    "print(len(bad_words_stat))\n",
    "top_bad_words = bad_words_stat[:20]\n",
    "print(top_bad_words)"
   ]
  },
  {
   "cell_type": "markdown",
   "metadata": {},
   "source": [
    "Видно, что набор слов из плохох отзывов содержит как негативно окрашенную лексику, так и словосочетания, встречавшиеся в топе для хороших отзывов. Надеюсь, слов \"not great\", \"cheap wine\", \"noth special\", \"water\", \"tabl\" и др. будет вполне достаточно.\n",
    "\n",
    "Отлично, получили \"хорошие\" и \"плохие\" слова на обучающей выборке, самое время использовать эту информацию на всем датасете."
   ]
  },
  {
   "cell_type": "code",
   "execution_count": 132,
   "metadata": {},
   "outputs": [],
   "source": [
    "coments_train = data_train.dropna(subset=['coment'])[['coment']]\n",
    "coments_test = data_test.dropna(subset=['coment'])[['coment']]\n",
    "\n",
    "coments_train['lang'] = coments_train[['coment']].apply(detectLanguage, axis=1)\n",
    "coments_test['lang'] = coments_test[['coment']].apply(detectLanguage, axis=1)"
   ]
  },
  {
   "cell_type": "code",
   "execution_count": 133,
   "metadata": {},
   "outputs": [
    {
     "data": {
      "text/plain": [
       "(en         76205\n",
       " pt          1246\n",
       " af           859\n",
       " es           631\n",
       " it           407\n",
       " unknown      383\n",
       " fr           291\n",
       " nl           282\n",
       " Name: lang, dtype: int64, en         14556\n",
       " pt           208\n",
       " af            90\n",
       " es            74\n",
       " it            47\n",
       " fr            38\n",
       " nl            34\n",
       " unknown       33\n",
       " Name: lang, dtype: int64)"
      ]
     },
     "execution_count": 133,
     "metadata": {},
     "output_type": "execute_result"
    }
   ],
   "source": [
    "coments_train.lang.value_counts()[:8], coments_test.lang.value_counts()[:8]"
   ]
  },
  {
   "cell_type": "code",
   "execution_count": 134,
   "metadata": {},
   "outputs": [],
   "source": [
    "coments_train = coments_train[coments_train.lang=='en']\n",
    "coments_test = coments_test[coments_test.lang=='en']\n",
    "\n",
    "coments_train['preprocessed'] = coments_train['coment'].apply(text_preprocess)\n",
    "coments_test['preprocessed'] = coments_test['coment'].apply(text_preprocess)"
   ]
  },
  {
   "cell_type": "code",
   "execution_count": 135,
   "metadata": {},
   "outputs": [],
   "source": [
    "data_train = data_train.merge(coments_train, on=['coment', 'lang'], how='left').drop_duplicates()"
   ]
  },
  {
   "cell_type": "code",
   "execution_count": 136,
   "metadata": {},
   "outputs": [],
   "source": [
    "data_test = data_test.merge(coments_test, on=['coment', 'lang'], how='left').drop_duplicates()"
   ]
  },
  {
   "cell_type": "code",
   "execution_count": 137,
   "metadata": {},
   "outputs": [
    {
     "name": "stdout",
     "output_type": "stream",
     "text": [
      "CPU times: user 3 s, sys: 72.8 ms, total: 3.08 s\n",
      "Wall time: 3.07 s\n"
     ]
    }
   ],
   "source": [
    "%%time\n",
    "vectorized_coments = vect.transform(data_train['preprocessed'].values.astype('U'))\n",
    "vectorized_com_test = vect.transform(data_test['preprocessed'].values.astype('U'))"
   ]
  },
  {
   "cell_type": "code",
   "execution_count": 138,
   "metadata": {},
   "outputs": [
    {
     "data": {
      "text/plain": [
       "{'dark': 7461,\n",
       " 'fruit': 12021,\n",
       " 'charact': 5202,\n",
       " 'evid': 9949,\n",
       " 'residu': 25522,\n",
       " 'sugar': 29256,\n",
       " 'high': 14211,\n",
       " 'alcohol': 690,\n",
       " 'slightli': 27550,\n",
       " 'imbalanc': 14866,\n",
       " 'dark fruit': 7475,\n",
       " 'fruit charact': 12049,\n",
       " 'charact evid': 5209,\n",
       " 'evid residu': 9952,\n",
       " 'residu sugar': 25527,\n",
       " 'sugar high': 29268,\n",
       " 'high alcohol': 14216,\n",
       " 'alcohol slightli': 760,\n",
       " 'slightli imbalanc': 27575,\n",
       " 'lack': 15864,\n",
       " 'thin': 30823,\n",
       " 'monoton': 18883,\n",
       " 'lack thin': 15919,\n",
       " 'thin monoton': 30846,\n",
       " 'fresh': 11828,\n",
       " 'medium': 18132,\n",
       " 'bodi': 3535,\n",
       " 'ok': 21553,\n",
       " 'finish': 10812,\n",
       " 'light': 16438,\n",
       " 'easi': 9212,\n",
       " 'drink': 8781,\n",
       " 'not': 20289,\n",
       " 'quit': 24645,\n",
       " 'deliv': 7839,\n",
       " 'promis': 24293,\n",
       " 'verdejo': 32574,\n",
       " 'white': 33429,\n",
       " 'far': 10440,\n",
       " 'near': 19396,\n",
       " 'level': 16367,\n",
       " 'rueda': 26119,\n",
       " 'bland': 3352,\n",
       " 'funni': 12510,\n",
       " 'fizzi': 11115,\n",
       " 'stuff': 29135,\n",
       " 'dri': 8635,\n",
       " 'sweet': 29542,\n",
       " 'vanilla': 32423,\n",
       " 'almond': 849,\n",
       " 'flavour': 11327,\n",
       " 'juici': 15571,\n",
       " 'fine': 10766,\n",
       " 'noth': 20779,\n",
       " 'special': 28248,\n",
       " 'redwin': 25292,\n",
       " 'perfect': 23030,\n",
       " 'barbecu': 2305,\n",
       " 'go': 12918,\n",
       " 'mani': 17780,\n",
       " 'differ': 8076,\n",
       " 'food': 11572,\n",
       " 'valu': 32384,\n",
       " 'money': 18862,\n",
       " 'jammi': 15419,\n",
       " 'red': 25156,\n",
       " 'berri': 2617,\n",
       " 'well': 33230,\n",
       " 'balanc': 2179,\n",
       " 'big': 2906,\n",
       " 'fanci': 10429,\n",
       " 'fresh fruit': 11853,\n",
       " 'fruit medium': 12135,\n",
       " 'medium bodi': 18140,\n",
       " 'bodi ok': 3625,\n",
       " 'ok finish': 21580,\n",
       " 'finish fresh': 10878,\n",
       " 'fresh light': 11863,\n",
       " 'light bodi': 16452,\n",
       " 'bodi easi': 3575,\n",
       " 'easi drink': 9223,\n",
       " 'drink not': 8875,\n",
       " 'not quit': 20512,\n",
       " 'quit deliv': 24661,\n",
       " 'deliv promis': 7845,\n",
       " 'promis verdejo': 24306,\n",
       " 'verdejo ok': 32575,\n",
       " 'ok white': 21643,\n",
       " 'white far': 33451,\n",
       " 'far not': 10465,\n",
       " 'not near': 20465,\n",
       " 'near level': 19399,\n",
       " 'level rueda': 16389,\n",
       " 'rueda bland': 26120,\n",
       " 'bland funni': 3358,\n",
       " 'funni fizzi': 12514,\n",
       " 'fizzi stuff': 11124,\n",
       " 'stuff dri': 29138,\n",
       " 'dri not': 8711,\n",
       " 'not sweet': 20556,\n",
       " 'sweet vanilla': 29769,\n",
       " 'vanilla almond': 32425,\n",
       " 'almond flavour': 854,\n",
       " 'flavour juici': 11355,\n",
       " 'juici fine': 15575,\n",
       " 'fine ok': 10784,\n",
       " 'ok noth': 21606,\n",
       " 'noth special': 20838,\n",
       " 'special easi': 28261,\n",
       " 'drink redwin': 8899,\n",
       " 'redwin perfect': 25293,\n",
       " 'perfect barbecu': 23034,\n",
       " 'barbecu slightli': 2308,\n",
       " 'slightli sweet': 27594,\n",
       " 'sweet go': 29625,\n",
       " 'go mani': 12947,\n",
       " 'mani differ': 17792,\n",
       " 'differ food': 8084,\n",
       " 'food ok': 11602,\n",
       " 'ok valu': 21639,\n",
       " 'valu money': 32396,\n",
       " 'money jammi': 18872,\n",
       " 'jammi red': 15443,\n",
       " 'red berri': 25162,\n",
       " 'berri fruit': 2641,\n",
       " 'fruit well': 12253,\n",
       " 'well balanc': 33237,\n",
       " 'balanc ok': 2226,\n",
       " 'ok fruit': 21588,\n",
       " 'fruit noth': 12159,\n",
       " 'noth big': 20785,\n",
       " 'big fanci': 2928,\n",
       " 'sure': 29441,\n",
       " 'wine': 33564,\n",
       " 'pleasant': 23458,\n",
       " 'not sure': 20554,\n",
       " 'sure wine': 29480,\n",
       " 'wine not': 33868,\n",
       " 'not pleasant': 20496,\n",
       " 'bad': 2043,\n",
       " 'littl': 17001,\n",
       " 'low': 17432,\n",
       " 'cost': 6980,\n",
       " 'doesnt': 8395,\n",
       " 'realli': 24978,\n",
       " 'tast': 30269,\n",
       " 'like': 16612,\n",
       " 'anyth': 1211,\n",
       " 'linger': 16915,\n",
       " 'tongu': 31356,\n",
       " 'much': 19089,\n",
       " 'longer': 17242,\n",
       " 'nessesari': 19505,\n",
       " 'not bad': 20305,\n",
       " 'bad littl': 2101,\n",
       " 'littl wine': 17128,\n",
       " 'wine low': 33832,\n",
       " 'low cost': 17441,\n",
       " 'cost doesnt': 6984,\n",
       " 'doesnt realli': 8425,\n",
       " 'realli tast': 25068,\n",
       " 'tast like': 30411,\n",
       " 'like anyth': 16622,\n",
       " 'anyth dri': 1214,\n",
       " 'dri finish': 8668,\n",
       " 'finish linger': 10905,\n",
       " 'linger tongu': 16926,\n",
       " 'tongu much': 31363,\n",
       " 'much longer': 19165,\n",
       " 'longer nessesari': 17244,\n",
       " 'note': 20618,\n",
       " 'champagn': 5135,\n",
       " 'sparkl': 28207,\n",
       " 'shiraz': 26999,\n",
       " 'num': 20895,\n",
       " 'cabernet': 4616,\n",
       " 'sauvignon': 26372,\n",
       " 'ad': 394,\n",
       " 'vintag': 32688,\n",
       " 'port': 23773,\n",
       " 'dosag': 8545,\n",
       " 'enjoy': 9564,\n",
       " 'cold': 6264,\n",
       " 'aperitif': 1246,\n",
       " 'chicken': 5663,\n",
       " 'note noth': 20707,\n",
       " 'noth champagn': 20788,\n",
       " 'champagn sparkl': 5166,\n",
       " 'sparkl shiraz': 28229,\n",
       " 'shiraz num': 27013,\n",
       " 'num cabernet': 20929,\n",
       " 'cabernet sauvignon': 4626,\n",
       " 'sauvignon ad': 26373,\n",
       " 'ad vintag': 402,\n",
       " 'vintag port': 32708,\n",
       " 'port dosag': 23776,\n",
       " 'dosag enjoy': 8546,\n",
       " 'enjoy cold': 9573,\n",
       " 'cold aperitif': 6265,\n",
       " 'aperitif chicken': 1248,\n",
       " 'expens': 10128,\n",
       " 'qualiti': 24564,\n",
       " 'expens qualiti': 10134,\n",
       " 'want': 32856,\n",
       " 'wake': 32837,\n",
       " 'wood': 34238,\n",
       " 'horrorher': 14594,\n",
       " 'pleas': 23445,\n",
       " 'dont': 8500,\n",
       " 'day': 7525,\n",
       " 'job': 15485,\n",
       " 'mr': 19078,\n",
       " 'coppola': 6905,\n",
       " 'want wake': 32891,\n",
       " 'wake wood': 32838,\n",
       " 'wood drink': 34246,\n",
       " 'drink horrorher': 8848,\n",
       " 'horrorher wood': 14595,\n",
       " 'wood wood': 34263,\n",
       " 'wood noth': 34253,\n",
       " 'noth wood': 20847,\n",
       " 'wood pleas': 34255,\n",
       " 'pleas dont': 23451,\n",
       " 'dont quit': 8526,\n",
       " 'quit day': 24659,\n",
       " 'day job': 7546,\n",
       " 'job mr': 15490,\n",
       " 'mr coppola': 19079,\n",
       " 'bit': 2988,\n",
       " 'overwhelm': 22244,\n",
       " 'sip': 27414,\n",
       " 'sunni': 29384,\n",
       " 'madrid': 17584,\n",
       " 'seven': 26879,\n",
       " 'oak': 21286,\n",
       " 'would': 34400,\n",
       " 'say': 26418,\n",
       " 'kind': 15681,\n",
       " 'good': 13058,\n",
       " 'nice': 19589,\n",
       " 'fruiti': 12275,\n",
       " 'bit overwhelm': 3087,\n",
       " 'overwhelm ok': 22252,\n",
       " 'ok sip': 21625,\n",
       " 'sip sunni': 27441,\n",
       " 'sunni day': 29386,\n",
       " 'day madrid': 7548,\n",
       " 'madrid seven': 17585,\n",
       " 'seven oak': 26880,\n",
       " 'oak would': 21379,\n",
       " 'would say': 34471,\n",
       " 'say littl': 26443,\n",
       " 'littl cabernet': 17026,\n",
       " 'cabernet overwhelm': 4625,\n",
       " 'overwhelm oak': 22251,\n",
       " 'oak not': 21347,\n",
       " 'not kind': 20444,\n",
       " 'kind wine': 15715,\n",
       " 'wine good': 33762,\n",
       " 'good aperitif': 13066,\n",
       " 'aperitif nice': 1251,\n",
       " 'nice fruiti': 19647,\n",
       " 'fun': 12484,\n",
       " 'tri': 31590,\n",
       " 'fun tri': 12493,\n",
       " 'save': 26395,\n",
       " 'water': 32967,\n",
       " 'reason': 25082,\n",
       " 'serv': 26808,\n",
       " 'confer': 6732,\n",
       " 'almost': 862,\n",
       " 'no': 19773,\n",
       " 'nose': 20036,\n",
       " 'sour': 28101,\n",
       " 'cherri': 5506,\n",
       " 'woodi': 34272,\n",
       " 'tannin': 30070,\n",
       " 'acid': 104,\n",
       " 'unbalanc': 31893,\n",
       " 'rs': 26065,\n",
       " 'tart': 30229,\n",
       " 'short': 27055,\n",
       " 'souri': 28159,\n",
       " 'drink wine': 8942,\n",
       " 'wine save': 33959,\n",
       " 'save water': 26405,\n",
       " 'water reason': 32989,\n",
       " 'reason serv': 25103,\n",
       " 'serv confer': 26818,\n",
       " 'confer almost': 6733,\n",
       " 'almost no': 885,\n",
       " 'no nose': 19853,\n",
       " 'nose bit': 20055,\n",
       " 'bit sour': 3111,\n",
       " 'sour cherri': 28111,\n",
       " 'cherri woodi': 5613,\n",
       " 'woodi tannin': 34277,\n",
       " 'tannin tast': 30191,\n",
       " 'tast high': 30394,\n",
       " 'high acid': 14213,\n",
       " 'acid bit': 120,\n",
       " 'bit unbalanc': 3135,\n",
       " 'unbalanc rs': 31918,\n",
       " 'rs wood': 26068,\n",
       " 'wood tannin': 34261,\n",
       " 'tannin tart': 30190,\n",
       " 'tart fruit': 30239,\n",
       " 'fruit short': 12208,\n",
       " 'short souri': 27093,\n",
       " 'souri red': 28160,\n",
       " 'red fruit': 25195,\n",
       " 'fruit finish': 12086,\n",
       " 'local': 17161,\n",
       " 'majest': 17625,\n",
       " 'disappoint': 8202,\n",
       " 'super': 29390,\n",
       " 'weak': 33110,\n",
       " 'idea': 14779,\n",
       " 'anyon': 1201,\n",
       " 'could': 7000,\n",
       " 'give': 12774,\n",
       " 'nearli': 19408,\n",
       " 'whatsoev': 33400,\n",
       " 'hint': 14276,\n",
       " 'green': 13600,\n",
       " 'appl': 1307,\n",
       " 'that': 30737,\n",
       " 'lime': 16872,\n",
       " 'wateri': 32997,\n",
       " 'bore': 3778,\n",
       " 'tame': 30002,\n",
       " 'next': 19566,\n",
       " 'tast local': 30413,\n",
       " 'local majest': 17165,\n",
       " 'majest big': 17626,\n",
       " 'big disappoint': 2925,\n",
       " 'disappoint super': 8243,\n",
       " 'super weak': 29401,\n",
       " 'weak no': 33127,\n",
       " 'no idea': 19829,\n",
       " 'idea anyon': 14781,\n",
       " 'anyon could': 1203,\n",
       " 'could give': 7010,\n",
       " 'give num': 12796,\n",
       " 'num nearli': 21057,\n",
       " 'nearli no': 19412,\n",
       " 'nose whatsoev': 20276,\n",
       " 'whatsoev hint': 33401,\n",
       " 'hint green': 14310,\n",
       " 'green appl': 13602,\n",
       " 'appl that': 1381,\n",
       " 'that littl': 30749,\n",
       " 'littl lime': 17068,\n",
       " 'lime wateri': 16891,\n",
       " 'wateri bore': 33004,\n",
       " 'bore tame': 3804,\n",
       " 'tame next': 30003,\n",
       " 'disappoint doesnt': 8214,\n",
       " 'doesnt tast': 8431,\n",
       " 'tast shiraz': 30481,\n",
       " 'hadnt': 13801,\n",
       " 'seen': 26704,\n",
       " 'label': 15833,\n",
       " 'wouldnt': 34485,\n",
       " 'place': 23370,\n",
       " 'depth': 7886,\n",
       " 'region': 25366,\n",
       " 'attempt': 1780,\n",
       " 'make': 17633,\n",
       " 'fortifi': 11673,\n",
       " 'avoid': 1926,\n",
       " 'hadnt seen': 13802,\n",
       " 'seen label': 26706,\n",
       " 'label wouldnt': 15863,\n",
       " 'wouldnt place': 34497,\n",
       " 'place port': 23377,\n",
       " 'port no': 23781,\n",
       " 'no depth': 19801,\n",
       " 'depth not': 7903,\n",
       " 'sweet not': 29679,\n",
       " 'not fresh': 20400,\n",
       " 'fresh could': 11846,\n",
       " 'could region': 7023,\n",
       " 'region attempt': 25367,\n",
       " 'attempt make': 1782,\n",
       " 'make fortifi': 17655,\n",
       " 'fortifi wine': 11675,\n",
       " 'wine avoid': 33596,\n",
       " 'good fruiti': 13152,\n",
       " 'fruiti aperitif': 12282,\n",
       " 'didnt': 8031,\n",
       " 'choos': 5812,\n",
       " 'pay': 22755,\n",
       " 'borderlin': 3775,\n",
       " 'side': 27199,\n",
       " 'otherwis': 22098,\n",
       " 'destinctivli': 7973,\n",
       " 'cs': 7300,\n",
       " 'pink': 23281,\n",
       " 'clearli': 6087,\n",
       " 'one': 21726,\n",
       " 'chick': 5661,\n",
       " 'smooth': 27768,\n",
       " 'wild': 33534,\n",
       " 'strawberri': 28939,\n",
       " 'main': 17611,\n",
       " 'influenc': 15028,\n",
       " 'buy': 4514,\n",
       " 'also': 955,\n",
       " 'charit': 5334,\n",
       " 'caus': 5014,\n",
       " 'breast': 4122,\n",
       " 'cancer': 4740,\n",
       " 'research': 25501,\n",
       " 'worth': 34374,\n",
       " 'alon': 901,\n",
       " 'didnt choos': 8037,\n",
       " 'choos didnt': 5815,\n",
       " 'didnt pay': 8056,\n",
       " 'pay borderlin': 22758,\n",
       " 'borderlin ok': 3777,\n",
       " 'ok bit': 21559,\n",
       " 'sour side': 28141,\n",
       " 'side otherwis': 27219,\n",
       " 'otherwis destinctivli': 22101,\n",
       " 'destinctivli cs': 7974,\n",
       " 'cs not': 7313,\n",
       " 'not dri': 20358,\n",
       " 'dri like': 8695,\n",
       " 'like sparkl': 16823,\n",
       " 'sparkl pink': 28226,\n",
       " 'pink clearli': 23282,\n",
       " 'clearli one': 6095,\n",
       " 'one chick': 21745,\n",
       " 'chick smooth': 5662,\n",
       " 'smooth hint': 27788,\n",
       " 'hint wild': 14366,\n",
       " 'wild strawberri': 33545,\n",
       " 'strawberri main': 28961,\n",
       " 'main influenc': 17613,\n",
       " 'influenc tast': 15029,\n",
       " 'tast buy': 30312,\n",
       " 'buy one': 4536,\n",
       " 'one also': 21729,\n",
       " 'also serv': 984,\n",
       " 'serv charit': 26814,\n",
       " 'charit caus': 5335,\n",
       " 'caus breast': 5016,\n",
       " 'breast cancer': 4123,\n",
       " 'cancer research': 4741,\n",
       " 'research worth': 25503,\n",
       " 'worth tri': 34395,\n",
       " 'tri not': 31636,\n",
       " 'not reason': 20515,\n",
       " 'reason alon': 25084,\n",
       " 'unfortun': 32053,\n",
       " 'old': 21681,\n",
       " 'dead': 7606,\n",
       " 'unfortun old': 32066,\n",
       " 'old tast': 21705,\n",
       " 'tast old': 30444,\n",
       " 'old dead': 21689,\n",
       " 'dead wine': 7609,\n",
       " 'friuli': 11979,\n",
       " 'aquileia': 1442,\n",
       " 'locat': 17171,\n",
       " 'lowland': 17475,\n",
       " 'southern': 28171,\n",
       " 'part': 22625,\n",
       " 'itali': 15313,\n",
       " 'northeastern': 20029,\n",
       " 'known': 15804,\n",
       " 'great': 13517,\n",
       " 'territori': 30679,\n",
       " 'product': 24254,\n",
       " 'help': 14120,\n",
       " 'cheap': 5353,\n",
       " 'insignific': 15082,\n",
       " 'ye': 34569,\n",
       " 'seem': 26664,\n",
       " 'better': 2763,\n",
       " 'use': 32264,\n",
       " 'energi': 9550,\n",
       " 'look': 17255,\n",
       " 'someth': 27971,\n",
       " 'els': 9434,\n",
       " 'friuli aquileia': 11980,\n",
       " 'aquileia locat': 1443,\n",
       " 'locat lowland': 17172,\n",
       " 'lowland southern': 17476,\n",
       " 'southern part': 28173,\n",
       " 'part itali': 22627,\n",
       " 'itali northeastern': 15322,\n",
       " 'northeastern region': 20030,\n",
       " 'region region': 25372,\n",
       " 'region well': 25377,\n",
       " 'well known': 33280,\n",
       " 'known great': 15807,\n",
       " 'great territori': 13588,\n",
       " 'territori wine': 30680,\n",
       " 'wine product': 33919,\n",
       " 'product not': 24264,\n",
       " 'not help': 20423,\n",
       " 'help white': 14131,\n",
       " 'white wine': 33493,\n",
       " 'wine much': 33856,\n",
       " 'much cheap': 19114,\n",
       " 'cheap insignific': 5388,\n",
       " 'insignific wine': 15083,\n",
       " 'wine ye': 34081,\n",
       " 'ye drink': 34571,\n",
       " 'drink seem': 8902,\n",
       " 'seem better': 26665,\n",
       " 'better use': 2870,\n",
       " 'use energi': 32275,\n",
       " 'energi look': 9551,\n",
       " 'look someth': 17276,\n",
       " 'someth els': 27987,\n",
       " 'chiaretto': 5657,\n",
       " 'sound': 28091,\n",
       " 'inter': 15173,\n",
       " 'unlik': 32114,\n",
       " 'cigaretto': 5844,\n",
       " 'exactli': 9969,\n",
       " 'rosé': 25972,\n",
       " 'chiaretto sound': 5658,\n",
       " 'sound almost': 28092,\n",
       " 'almost not': 887,\n",
       " 'not inter': 20438,\n",
       " 'inter unlik': 15174,\n",
       " 'unlik cigaretto': 32115,\n",
       " 'cigaretto exactli': 5845,\n",
       " 'exactli rosé': 9973,\n",
       " 'rosé tast': 25985,\n",
       " 'tropic': 31689,\n",
       " 'smokey': 27737,\n",
       " 'roast': 25862,\n",
       " 'nut': 21246,\n",
       " 'end': 9505,\n",
       " 'mouth': 18989,\n",
       " 'unexcit': 32036,\n",
       " 'suffici': 29253,\n",
       " 'long': 17198,\n",
       " 'reserv': 25508,\n",
       " 'gentl': 12635,\n",
       " 'grass': 13482,\n",
       " 'love': 17390,\n",
       " 'consit': 6786,\n",
       " 'fatti': 10512,\n",
       " 'full': 12440,\n",
       " 'cassi': 4956,\n",
       " 'prevent': 24026,\n",
       " 'feel': 10579,\n",
       " 'boild': 3699,\n",
       " 'hardli': 13893,\n",
       " 'present': 23955,\n",
       " 'poor': 23720,\n",
       " 'stuctur': 29131,\n",
       " 'completli': 6580,\n",
       " 'unfocusednum': 32051,\n",
       " 'floral': 11462,\n",
       " 'efferves': 9322,\n",
       " 'rather': 24891,\n",
       " 'bubbl': 4295,\n",
       " 'terrac': 30650,\n",
       " 'drunk': 9075,\n",
       " 'quickli': 24619,\n",
       " 'pour': 23846,\n",
       " 'left': 16177,\n",
       " 'min': 18576,\n",
       " 'flower': 11503,\n",
       " 'peach': 22780,\n",
       " 'uninspir': 32087,\n",
       " 'miss': 18720,\n",
       " 'nose tropic': 20265,\n",
       " 'tropic fruit': 31695,\n",
       " 'fruit smokey': 12213,\n",
       " 'smokey roast': 27743,\n",
       " 'roast nut': 25869,\n",
       " 'nut end': 21248,\n",
       " 'end mouth': 9522,\n",
       " 'mouth wine': 19045,\n",
       " 'wine quit': 33927,\n",
       " 'quit unexcit': 24733,\n",
       " 'unexcit suffici': 32037,\n",
       " 'suffici acid': 29254,\n",
       " 'acid make': 213,\n",
       " 'make fresh': 17656,\n",
       " 'fresh long': 11865,\n",
       " 'long finish': 17213,\n",
       " 'finish num': 10926,\n",
       " 'num nose': 21061,\n",
       " 'nose wine': 20279,\n",
       " 'quit reserv': 24711,\n",
       " 'reserv gentl': 25513,\n",
       " 'gentl note': 12640,\n",
       " 'note green': 20676,\n",
       " 'green grass': 13612,\n",
       " 'grass mouth': 13497,\n",
       " 'wine love': 33830,\n",
       " 'love consit': 17400,\n",
       " 'consit slightli': 6787,\n",
       " 'slightli fatti': 27565,\n",
       " 'fatti nice': 10516,\n",
       " 'nice acid': 19591,\n",
       " 'acid full': 181,\n",
       " 'full bodi': 12443,\n",
       " 'bodi medium': 3611,\n",
       " 'medium finish': 18150,\n",
       " 'nose red': 20219,\n",
       " 'fruit cassi': 12046,\n",
       " 'cassi mouth': 4960,\n",
       " 'wine acid': 33567,\n",
       " 'acid prevent': 256,\n",
       " 'prevent wine': 24028,\n",
       " 'wine feel': 33734,\n",
       " 'feel boild': 10588,\n",
       " 'boild tannin': 3700,\n",
       " 'tannin hardli': 30120,\n",
       " 'hardli present': 13899,\n",
       " 'present poor': 23962,\n",
       " 'poor stuctur': 23736,\n",
       " 'stuctur not': 29132,\n",
       " 'not completli': 20333,\n",
       " 'completli unfocusednum': 6581,\n",
       " 'unfocusednum strawberri': 32052,\n",
       " 'strawberri floral': 28951,\n",
       " 'floral note': 11478,\n",
       " 'note efferves': 20665,\n",
       " 'efferves rather': 9323,\n",
       " 'rather short': 24920,\n",
       " 'short quit': 27086,\n",
       " 'quit big': 24650,\n",
       " 'big bubbl': 2913,\n",
       " 'bubbl mouth': 4331,\n",
       " 'wine sweet': 34019,\n",
       " 'sweet fruiti': 29621,\n",
       " 'fruiti feel': 12310,\n",
       " 'feel nice': 10610,\n",
       " 'nice fresh': 19645,\n",
       " 'fresh acid': 11829,\n",
       " 'acid ok': 239,\n",
       " 'ok terrac': 21635,\n",
       " 'terrac drink': 30651,\n",
       " 'drink drunk': 8824,\n",
       " 'drunk quickli': 9081,\n",
       " 'quickli pour': 24629,\n",
       " 'pour num': 23855,\n",
       " 'num left': 21029,\n",
       " 'left num': 16190,\n",
       " 'num min': 21047,\n",
       " 'min num': 18578,\n",
       " 'nose light': 20157,\n",
       " 'light nose': 16514,\n",
       " 'nose flower': 20122,\n",
       " 'flower peach': 11519,\n",
       " 'peach mouth': 22806,\n",
       " 'feel wateri': 10628,\n",
       " 'wateri uninspir': 33034,\n",
       " 'uninspir miss': 32092,\n",
       " 'miss bit': 18724,\n",
       " 'bit acid': 2989,\n",
       " 'acid num': 234,\n",
       " 'wineri': 34109,\n",
       " 'volcano': 32798,\n",
       " 'slope': 27608,\n",
       " 'hawaii': 13971,\n",
       " 'made': 17540,\n",
       " 'symphoni': 29851,\n",
       " 'grape': 13382,\n",
       " 'aw': 1930,\n",
       " 'everi': 9903,\n",
       " 'way': 33051,\n",
       " 'two': 31780,\n",
       " 'star': 28589,\n",
       " 'novelti': 20869,\n",
       " 'dinner': 8149,\n",
       " 'winerp': 34128,\n",
       " 'semisweet': 26754,\n",
       " 'cross': 7265,\n",
       " 'muscat': 19253,\n",
       " 'grenach': 13651,\n",
       " 'yuck': 34842,\n",
       " 'brownish': 4261,\n",
       " 'orang': 21994,\n",
       " 'undrink': 32003,\n",
       " 'decemb': 7640,\n",
       " 'bag': 2164,\n",
       " 'box': 4027,\n",
       " 'simpli': 27372,\n",
       " 'open': 21912,\n",
       " 'bottl': 3830,\n",
       " 'airport': 655,\n",
       " 'loung': 17380,\n",
       " 'need': 19434,\n",
       " 'wine tast': 34024,\n",
       " 'tast wineri': 30521,\n",
       " 'wineri volcano': 34126,\n",
       " 'volcano slope': 32799,\n",
       " 'slope hawaii': 27609,\n",
       " 'hawaii white': 13973,\n",
       " 'wine made': 33834,\n",
       " 'made symphoni': 17576,\n",
       " 'symphoni grape': 29852,\n",
       " 'grape aw': 13385,\n",
       " 'aw everi': 1933,\n",
       " 'everi way': 9911,\n",
       " 'way two': 33099,\n",
       " 'two star': 31795,\n",
       " 'star novelti': 28616,\n",
       " 'novelti great': 20870,\n",
       " 'great dinner': 13535,\n",
       " 'dinner winerp': 8168,\n",
       " 'winerp semisweet': 34129,\n",
       " 'semisweet white': 26759,\n",
       " 'white num': 33468,\n",
       " 'num symphoni': 21142,\n",
       " 'grape cross': 13396,\n",
       " 'cross muscat': 7266,\n",
       " 'muscat grenach': 19255,\n",
       " 'grenach yuck': 13656,\n",
       " 'yuck brownish': 34843,\n",
       " 'brownish orang': 4264,\n",
       " 'orang undrink': 22017,\n",
       " 'undrink decemb': 32009,\n",
       " 'decemb num': 7641,\n",
       " 'num bag': 20915,\n",
       " 'bag box': 2166,\n",
       " 'box wine': 4037,\n",
       " 'wine simpli': 33978,\n",
       " 'simpli not': 27377,\n",
       " 'not open': 20483,\n",
       " 'open bottl': 21918,\n",
       " 'bottl airport': 3834,\n",
       " 'airport loung': 658,\n",
       " 'loung need': 17383,\n",
       " 'need say': 19461,\n",
       " 'purpl': 24464,\n",
       " 'sangioves': 26289,\n",
       " 'profil': 24274,\n",
       " 'palat': 22358,\n",
       " 'refresh': 25323,\n",
       " 'merlot': 18332,\n",
       " 'plum': 23545,\n",
       " 'structur': 29082,\n",
       " 'confirm': 6734,\n",
       " 'spot': 28494,\n",
       " 'dens': 7867,\n",
       " 'rubi': 26089,\n",
       " 'portugues': 23795,\n",
       " 'setub': 26877,\n",
       " 'youth': 34821,\n",
       " 'robust': 25879,\n",
       " 'pale': 22540,\n",
       " 'yellow': 34668,\n",
       " 'discreet': 8278,\n",
       " 'tradit': 31526,\n",
       " 'toast': 31205,\n",
       " 'clear': 6059,\n",
       " 'herb': 14132,\n",
       " 'unctuou': 31944,\n",
       " 'flavor': 11184,\n",
       " 'intens': 15119,\n",
       " 'spanish': 28190,\n",
       " 'rioja': 25782,\n",
       " 'ripe': 25799,\n",
       " 'person': 23124,\n",
       " 'firm': 11023,\n",
       " 'impress': 14904,\n",
       " 'ting': 31163,\n",
       " 'sporad': 28490,\n",
       " 'thick': 30806,\n",
       " 'flat': 11139,\n",
       " 'pear': 22839,\n",
       " 'mellow': 18254,\n",
       " 'even': 9813,\n",
       " 'proper': 24321,\n",
       " 'dark purpl': 7489,\n",
       " 'purpl sangioves': 24478,\n",
       " 'sangioves low': 26295,\n",
       " 'low profil': 17454,\n",
       " 'profil nose': 24276,\n",
       " 'nose pleasant': 20208,\n",
       " 'pleasant palat': 23489,\n",
       " 'palat refresh': 22487,\n",
       " 'refresh acid': 25324,\n",
       " 'acid dark': 144,\n",
       " 'purpl merlot': 24472,\n",
       " 'merlot plum': 18370,\n",
       " 'plum berri': 23548,\n",
       " 'berri nose': 2655,\n",
       " 'nose mouth': 20181,\n",
       " 'mouth lack': 19013,\n",
       " 'lack structur': 15916,\n",
       " 'structur confirm': 29090,\n",
       " 'confirm fruit': 6736,\n",
       " 'fruit spot': 12220,\n",
       " 'spot nose': 28496,\n",
       " 'nose dens': 20099,\n",
       " 'dens rubi': 7874,\n",
       " 'rubi portugues': 26107,\n",
       " 'portugues setub': 23796,\n",
       " 'setub light': 26878,\n",
       " 'nose berri': 20052,\n",
       " 'berri short': 2672,\n",
       " 'short bodi': 27059,\n",
       " 'bodi flavour': 3583,\n",
       " 'flavour youth': 11402,\n",
       " 'youth promis': 34828,\n",
       " 'promis robust': 24301,\n",
       " 'robust pale': 25881,\n",
       " 'pale yellow': 22560,\n",
       " 'yellow discreet': 34675,\n",
       " 'discreet nose': 8279,\n",
       " 'nose tradit': 20264,\n",
       " 'tradit toast': 31530,\n",
       " 'toast fresh': 31211,\n",
       " 'could bit': 7006,\n",
       " 'acid clear': 133,\n",
       " 'clear yellow': 6084,\n",
       " 'yellow wine': 34700,\n",
       " 'wine green': 33767,\n",
       " 'green herb': 13615,\n",
       " 'herb nose': 14148,\n",
       " 'mouth unctuou': 19038,\n",
       " 'unctuou structur': 31946,\n",
       " 'structur flavor': 29097,\n",
       " 'flavor lack': 11242,\n",
       " 'lack intens': 15895,\n",
       " 'intens light': 15146,\n",
       " 'light purpl': 16530,\n",
       " 'purpl spanish': 24480,\n",
       " 'spanish rioja': 28200,\n",
       " 'rioja ripe': 25790,\n",
       " 'ripe plum': 25820,\n",
       " 'plum nose': 23581,\n",
       " 'nose short': 20234,\n",
       " 'bodi person': 3633,\n",
       " 'person firm': 23133,\n",
       " 'firm ok': 11029,\n",
       " 'ok not': 21605,\n",
       " 'not impress': 20434,\n",
       " 'impress green': 14916,\n",
       " 'green ting': 13638,\n",
       " 'ting sparkl': 31166,\n",
       " 'sparkl wine': 28232,\n",
       " 'wine sporad': 33998,\n",
       " 'sporad thick': 28491,\n",
       " 'thick bubbl': 30807,\n",
       " 'bubbl flat': 4312,\n",
       " 'flat nose': 11159,\n",
       " 'light pear': 16524,\n",
       " 'pear also': 22840,\n",
       " 'also mellow': 971,\n",
       " 'mellow mouth': 18256,\n",
       " 'mouth even': 19005,\n",
       " 'even proper': 9854,\n",
       " 'proper acid': 24322,\n",
       " 'age': 542,\n",
       " 'wish': 34153,\n",
       " 'younger': 34806,\n",
       " 'felt': 10645,\n",
       " 'tire': 31190,\n",
       " 'werent': 33364,\n",
       " 'either': 9358,\n",
       " 'num age': 20898,\n",
       " 'age much': 558,\n",
       " 'much wish': 19221,\n",
       " 'wish would': 34162,\n",
       " 'would younger': 34484,\n",
       " 'younger vintag': 34808,\n",
       " 'vintag felt': 32699,\n",
       " 'felt bit': 10648,\n",
       " 'bit tire': 3132,\n",
       " 'tire bubbl': 31191,\n",
       " 'bubbl werent': 4353,\n",
       " 'werent great': 33365,\n",
       " 'great either': 13541,\n",
       " 'top': 31395,\n",
       " 'time': 31087,\n",
       " 'top sweet': 31414,\n",
       " 'sweet sour': 29740,\n",
       " 'sour time': 28150,\n",
       " 'without': 34167,\n",
       " 'life': 16424,\n",
       " 'flat without': 11183,\n",
       " 'without life': 34183,\n",
       " 'slim': 27602,\n",
       " 'size': 27480,\n",
       " 'defin': 7760,\n",
       " 'raspberri': 24818,\n",
       " 'quaffabl': 24553,\n",
       " 'decent': 7642,\n",
       " 'pair': 22316,\n",
       " 'activ': 362,\n",
       " 'ingredi': 15037,\n",
       " 'beauf': 2487,\n",
       " 'bourgoignon': 4021,\n",
       " 'slim size': 27605,\n",
       " 'size well': 27486,\n",
       " 'well defin': 33257,\n",
       " 'defin raspberri': 7763,\n",
       " 'raspberri fruit': 24834,\n",
       " 'fruit quaffabl': 12182,\n",
       " 'quaffabl decent': 24554,\n",
       " 'decent not': 7673,\n",
       " 'not pair': 20488,\n",
       " 'pair activ': 22317,\n",
       " 'activ ingredi': 364,\n",
       " 'ingredi beauf': 15038,\n",
       " 'beauf bourgoignon': 2488,\n",
       " 'rose': 25923,\n",
       " 'definet': 7766,\n",
       " 'style': 29149,\n",
       " 'light tast': 16559,\n",
       " 'tast bit': 30297,\n",
       " 'bit sweet': 3121,\n",
       " 'sweet realli': 29717,\n",
       " 'realli sweet': 25066,\n",
       " 'sweet strawberri': 29747,\n",
       " 'strawberri rose': 28980,\n",
       " 'rose definet': 25930,\n",
       " 'definet not': 7768,\n",
       " 'not style': 20549,\n",
       " 'achiev': 101,\n",
       " 'minut': 18704,\n",
       " 'oxygen': 22282,\n",
       " 'mediocr': 18117,\n",
       " 'price': 24033,\n",
       " 'find': 10729,\n",
       " 'simpl': 27271,\n",
       " 'traceabl': 31520,\n",
       " 'minor': 18682,\n",
       " 'accept': 59,\n",
       " 'around': 1652,\n",
       " 'citru': 5883,\n",
       " 'get': 12655,\n",
       " 'charm': 5338,\n",
       " 'coq': 6906,\n",
       " 'au': 1801,\n",
       " 'vin': 32635,\n",
       " 'much better': 19103,\n",
       " 'better tast': 2864,\n",
       " 'tast achiev': 30271,\n",
       " 'achiev num': 103,\n",
       " 'num minut': 21048,\n",
       " 'minut oxygen': 18707,\n",
       " 'oxygen wine': 22283,\n",
       " 'wine mediocr': 33847,\n",
       " 'mediocr wine': 18129,\n",
       " 'wine better': 33608,\n",
       " 'better wine': 2879,\n",
       " 'wine price': 33914,\n",
       " 'price level': 24076,\n",
       " 'level easi': 16376,\n",
       " 'easi find': 9227,\n",
       " 'find simpl': 10755,\n",
       " 'simpl tast': 27357,\n",
       " 'tast fresh': 30381,\n",
       " 'fresh grape': 11856,\n",
       " 'grape clearli': 13393,\n",
       " 'clearli traceabl': 6096,\n",
       " 'traceabl tannin': 31521,\n",
       " 'tannin minor': 30150,\n",
       " 'minor fruit': 18683,\n",
       " 'fruit note': 12158,\n",
       " 'note accept': 20619,\n",
       " 'accept around': 60,\n",
       " 'around tast': 1662,\n",
       " 'fresh easi': 11850,\n",
       " 'easi citru': 9219,\n",
       " 'citru note': 5921,\n",
       " 'note no': 20704,\n",
       " 'depth littl': 7898,\n",
       " 'littl sour': 17100,\n",
       " 'sour could': 28112,\n",
       " 'could much': 7018,\n",
       " 'better champagn': 2783,\n",
       " 'champagn get': 5152,\n",
       " 'get pay': 12706,\n",
       " 'pay not': 22768,\n",
       " 'not undrink': 20581,\n",
       " 'undrink not': 32014,\n",
       " 'not charm': 20328,\n",
       " 'charm could': 5339,\n",
       " 'could use': 7029,\n",
       " 'use coq': 32271,\n",
       " 'coq au': 6907,\n",
       " 'au vin': 1804,\n",
       " 'zero': 34853,\n",
       " 'zero nose': 34856,\n",
       " 'nose ok': 20196,\n",
       " 'ok palat': 21611,\n",
       " 'palat hint': 22429,\n",
       " 'hint herb': 14313,\n",
       " 'spici': 28411,\n",
       " 'earthi': 9183,\n",
       " 'malbec': 17712,\n",
       " 'cab': 4572,\n",
       " 'tabl': 29924,\n",
       " ...}"
      ]
     },
     "execution_count": 138,
     "metadata": {},
     "output_type": "execute_result"
    }
   ],
   "source": [
    "vect.vocabulary_     # здесь видим весь обученный словарь, применим его к топ-листу"
   ]
  },
  {
   "cell_type": "code",
   "execution_count": 139,
   "metadata": {},
   "outputs": [
    {
     "name": "stdout",
     "output_type": "stream",
     "text": [
      "[20417, 29756, 29679, 5425, 21648, 13257, 29934, 10536, 13266, 20838, 6848, 18862, 32967, 29924, 9915, 20412, 29790, 8149, 28248, 13915]\n",
      "[29621, 12385, 13266, 20358, 13587, 34847, 12346, 29679, 17424, 13591, 9223, 30546, 20556, 25323, 29778, 33493, 19557]\n"
     ]
    }
   ],
   "source": [
    "bad_words_idx = []\n",
    "good_words_idx = []\n",
    "for i in top_bad_words:\n",
    "    if vect.vocabulary_.get(i[0]):\n",
    "        bad_words_idx.append(vect.vocabulary_.get(i[0]))\n",
    "for i in top_good_words:\n",
    "    if vect.vocabulary_.get(i[0]):\n",
    "        good_words_idx.append(vect.vocabulary_.get(i[0]))\n",
    "print(bad_words_idx)\n",
    "print(good_words_idx)"
   ]
  },
  {
   "cell_type": "markdown",
   "metadata": {},
   "source": [
    "Как было и раньше видно, некоторые словосочетания есть и в топе, и в анти-топе, так что просто избавимся от дублёров, сократив число интересных для нас слов."
   ]
  },
  {
   "cell_type": "code",
   "execution_count": 182,
   "metadata": {},
   "outputs": [
    {
     "data": {
      "text/plain": [
       "35"
      ]
     },
     "execution_count": 182,
     "metadata": {},
     "output_type": "execute_result"
    }
   ],
   "source": [
    "idx = bad_words_idx + good_words_idx\n",
    "idx = list(set(idx))\n",
    "len(idx)"
   ]
  },
  {
   "cell_type": "markdown",
   "metadata": {},
   "source": [
    "Теперь наконец можем добавить веса, вычисленные на этих словах во всех комментариях. Чем большим весом будет обладать слово в конкретном документе, тем значимее должен быть этот признак. Добавим текстовые фичи в общую таблицу признаков и обучим xgboost."
   ]
  },
  {
   "cell_type": "code",
   "execution_count": 141,
   "metadata": {},
   "outputs": [
    {
     "data": {
      "text/plain": [
       "<81927x35 sparse matrix of type '<class 'numpy.float64'>'\n",
       "\twith 21486 stored elements in Compressed Sparse Row format>"
      ]
     },
     "execution_count": 141,
     "metadata": {},
     "output_type": "execute_result"
    }
   ],
   "source": [
    "tfidf_features = vectorized_coments[:, idx]\n",
    "tfidf_feat_test = vectorized_com_test[:, idx]\n",
    "tfidf_features"
   ]
  },
  {
   "cell_type": "code",
   "execution_count": 142,
   "metadata": {},
   "outputs": [],
   "source": [
    "X_train, X_test, y_train, y_test = make_X_y(nltk=1)\n",
    "\n",
    "for i in range(len(idx)):\n",
    "    name = 'tfidf_' + str(i)\n",
    "    X_train[name] = pd.Series([x[0] for x in tfidf_features[:,i].todense().tolist()], index=X_train.index)\n",
    "    X_test[name] = pd.Series([x[0] for x in tfidf_feat_test[:,i].todense().tolist()], index=X_test.index)\n",
    "\n",
    "imp_columns = X_train.columns"
   ]
  },
  {
   "cell_type": "code",
   "execution_count": 143,
   "metadata": {},
   "outputs": [
    {
     "name": "stdout",
     "output_type": "stream",
     "text": [
      "Обучение:  (81927, 87) Тест:  (15300, 87)\n"
     ]
    }
   ],
   "source": [
    "X_train = preprocessor.fit_transform(X_train)\n",
    "X_test = preprocessor.transform(X_test)\n",
    "print('Обучение: ', X_train.shape, 'Тест: ', X_test.shape)"
   ]
  },
  {
   "cell_type": "markdown",
   "metadata": {},
   "source": [
    "## XGBoost с текстовыми признаками"
   ]
  },
  {
   "cell_type": "code",
   "execution_count": 144,
   "metadata": {},
   "outputs": [],
   "source": [
    "evals_result_tf, importances_tf = xgb_reg(X_train, y_train, X_test, y_test, imp_columns)"
   ]
  },
  {
   "cell_type": "code",
   "execution_count": 145,
   "metadata": {},
   "outputs": [
    {
     "name": "stdout",
     "output_type": "stream",
     "text": [
      "[0.724387, 0.673494, 0.633824, 0.601714, 0.574219, 0.551076, 0.531006, 0.514496, 0.500833, 0.489218]\n"
     ]
    },
    {
     "data": {
      "image/png": "[encoded data removed]",
      "text/plain": [
       "<Figure size 1080x360 with 2 Axes>"
      ]
     },
     "metadata": {
      "needs_background": "light"
     },
     "output_type": "display_data"
    }
   ],
   "source": [
    "train_rmse_tf, train_mae_tf, test_rmse_tf, test_mae_tf = show_evals(evals_result_tf)\n",
    "plot_compare(train_evals_mae, 'train MAE', train_mae_tf, 'train MAE with tfidf', test_evals_mae, 'test MAE', \n",
    "             test_mae_tf, 'test MAE with tfidf')"
   ]
  },
  {
   "cell_type": "code",
   "execution_count": 149,
   "metadata": {},
   "outputs": [
    {
     "data": {
      "text/plain": [
       "<BarContainer object of 68 artists>"
      ]
     },
     "execution_count": 149,
     "metadata": {},
     "output_type": "execute_result"
    },
    {
     "data": {
      "image/png": "[encoded data removed]",
      "text/plain": [
       "<Figure size 1440x1080 with 1 Axes>"
      ]
     },
     "metadata": {
      "needs_background": "light"
     },
     "output_type": "display_data"
    }
   ],
   "source": [
    "fig = plt.figure(figsize=(20, 15))\n",
    "plt.barh(*zip(*sorted(importances_tf.items(), key=lambda x:x[1])))"
   ]
  },
  {
   "cell_type": "markdown",
   "metadata": {},
   "source": [
    "Улучшения особо незаметно, хотя, в отличие от SVD, tf-idf вектора в качестве признаков ведут себя намного приятнее при обучении модели: несмотря на понижающееся качество предсказаний на обучающей выборке, на тестовом сете качество даже чуть улучшается на фоне числовой модели! А значит, нет переобучения."
   ]
  },
  {
   "cell_type": "markdown",
   "metadata": {},
   "source": [
    "## Random Tree Embedding"
   ]
  },
  {
   "cell_type": "markdown",
   "metadata": {},
   "source": [
    "Внесём в полученные взвешенные вектора слов семантическую близость: построим эмбеддинги для данных 1- и 2-грамм с помощью RandomTreeEmbedding. Ансамбль случайных деревьев сопоставляет им некоторые вектора в пространстве большой размерности, отображающие значение в \"пространство смыслов\" в рамках контекста употребления."
   ]
  },
  {
   "cell_type": "code",
   "execution_count": 150,
   "metadata": {},
   "outputs": [],
   "source": [
    "from sklearn.ensemble import RandomTreesEmbedding\n",
    "\n",
    "rte = RandomTreesEmbedding(n_estimators=20, max_depth=10, random_state=42)"
   ]
  },
  {
   "cell_type": "code",
   "execution_count": 151,
   "metadata": {},
   "outputs": [
    {
     "data": {
      "text/plain": [
       "<81927x35 sparse matrix of type '<class 'numpy.float64'>'\n",
       "\twith 21486 stored elements in Compressed Sparse Row format>"
      ]
     },
     "execution_count": 151,
     "metadata": {},
     "output_type": "execute_result"
    }
   ],
   "source": [
    "tfidf_features = vectorized_coments[:, idx]\n",
    "tfidf_feat_test = vectorized_com_test[:, idx]\n",
    "tfidf_features"
   ]
  },
  {
   "cell_type": "code",
   "execution_count": 152,
   "metadata": {},
   "outputs": [
    {
     "name": "stdout",
     "output_type": "stream",
     "text": [
      "CPU times: user 3 µs, sys: 1 µs, total: 4 µs\n",
      "Wall time: 6.44 µs\n"
     ]
    },
    {
     "data": {
      "text/plain": [
       "<81927x1711 sparse matrix of type '<class 'numpy.float64'>'\n",
       "\twith 1638540 stored elements in Compressed Sparse Row format>"
      ]
     },
     "execution_count": 152,
     "metadata": {},
     "output_type": "execute_result"
    }
   ],
   "source": [
    "%time\n",
    "tfidf_features = rte.fit_transform(tfidf_features)\n",
    "tfidf_feat_test = rte.transform(tfidf_feat_test)\n",
    "tfidf_features"
   ]
  },
  {
   "cell_type": "code",
   "execution_count": 153,
   "metadata": {},
   "outputs": [],
   "source": [
    "X_train, X_test, y_train, y_test = make_X_y(nltk=1)\n",
    "\n",
    "for i in range(len(idx)):\n",
    "    name = 'tfidf_' + str(i)\n",
    "    X_train[name] = pd.Series([x[0] for x in tfidf_features[:,i].todense().tolist()], index=X_train.index)\n",
    "    X_test[name] = pd.Series([x[0] for x in tfidf_feat_test[:,i].todense().tolist()], index=X_test.index)\n",
    "\n",
    "imp_columns = X_train.columns"
   ]
  },
  {
   "cell_type": "code",
   "execution_count": 154,
   "metadata": {},
   "outputs": [
    {
     "name": "stdout",
     "output_type": "stream",
     "text": [
      "Обучение:  (81927, 87) Тест:  (15300, 87)\n"
     ]
    }
   ],
   "source": [
    "X_train = preprocessor.fit_transform(X_train)\n",
    "X_test = preprocessor.transform(X_test)\n",
    "print('Обучение: ', X_train.shape, 'Тест: ', X_test.shape)"
   ]
  },
  {
   "cell_type": "code",
   "execution_count": 155,
   "metadata": {},
   "outputs": [],
   "source": [
    "evals_result_embed, importances_embed = xgb_reg(X_train, y_train, X_test, y_test, imp_columns)"
   ]
  },
  {
   "cell_type": "code",
   "execution_count": 156,
   "metadata": {},
   "outputs": [
    {
     "name": "stdout",
     "output_type": "stream",
     "text": [
      "[0.724889, 0.674768, 0.635574, 0.60332, 0.576361, 0.553137, 0.533776, 0.517726, 0.503765, 0.49191]\n"
     ]
    },
    {
     "data": {
      "image/png": "[encoded data removed]",
      "text/plain": [
       "<Figure size 1080x360 with 2 Axes>"
      ]
     },
     "metadata": {
      "needs_background": "light"
     },
     "output_type": "display_data"
    }
   ],
   "source": [
    "train_rmse_embed, train_mae_embed, test_rmse_embed, test_mae_embed = show_evals(evals_result_embed)\n",
    "plot_compare(train_evals_mae, 'train MAE', train_mae_tf, 'train MAE with tfidf', test_evals_mae, 'test MAE', \n",
    "             test_mae_tf, 'test MAE with tfidf', train_mae_embed, 'train MAE with embeddings', \n",
    "             data7=test_mae_embed, label7='test MAE with embeddings')"
   ]
  },
  {
   "cell_type": "markdown",
   "metadata": {},
   "source": [
    "## XGBoost с учетом SVD и tfidf"
   ]
  },
  {
   "cell_type": "code",
   "execution_count": 160,
   "metadata": {},
   "outputs": [],
   "source": [
    "X_train, X_test, y_train, y_test = make_X_y(nltk=1)\n",
    "\n",
    "X_train['svd_sum'] = pd.Series(res_train, index=X_train.index)\n",
    "X_test['svd_sum'] = pd.Series(res_test, index=X_test.index)\n",
    "\n",
    "for i in range(len(idx)):\n",
    "    name = 'tfidf_' + str(i)\n",
    "    X_train[name] = pd.Series([x[0] for x in tfidf_features[:,i].todense().tolist()], index=X_train.index)\n",
    "    X_test[name] = pd.Series([x[0] for x in tfidf_feat_test[:,i].todense().tolist()], index=X_test.index)\n",
    "\n",
    "imp_columns = X_train.columns"
   ]
  },
  {
   "cell_type": "code",
   "execution_count": 161,
   "metadata": {},
   "outputs": [
    {
     "name": "stdout",
     "output_type": "stream",
     "text": [
      "Обучение:  (81927, 88) \t\tТест:  (15300, 88)\n"
     ]
    }
   ],
   "source": [
    "X_train = preprocessor.fit_transform(X_train)\n",
    "X_test = preprocessor.transform(X_test)\n",
    "print('Обучение: ', X_train.shape, '\\t\\tТест: ', X_test.shape)"
   ]
  },
  {
   "cell_type": "code",
   "execution_count": 162,
   "metadata": {},
   "outputs": [],
   "source": [
    "evals_result_tf_svd, importances_tf_svd = xgb_reg(X_train, y_train, X_test, y_test, imp_columns)"
   ]
  },
  {
   "cell_type": "code",
   "execution_count": 163,
   "metadata": {},
   "outputs": [
    {
     "name": "stdout",
     "output_type": "stream",
     "text": [
      "[0.727705, 0.680059, 0.642227, 0.611593, 0.585767, 0.563429, 0.544594, 0.528124, 0.514405, 0.502527]\n"
     ]
    },
    {
     "data": {
      "image/png": "[encoded data removed]",
      "text/plain": [
       "<Figure size 1080x360 with 2 Axes>"
      ]
     },
     "metadata": {
      "needs_background": "light"
     },
     "output_type": "display_data"
    }
   ],
   "source": [
    "train_rmse_tf_svd, train_mae_tf_svd, test_rmse_tf_svd, test_mae_tf_svd = show_evals(evals_result_tf_svd)\n",
    "plot_compare(train_evals_mae, 'train MAE', train_mae_tf, 'train MAE with tfidf', test_evals_mae, 'test MAE', \n",
    "             test_mae_tf, 'test MAE with tfidf', train_mae_embed, 'train MAE with embeddings', train_mae_tf_svd,\n",
    "             'train MAE tfidf & SVD', test_mae_embed, 'test MAE with embeddings', test_mae_tf_svd, \n",
    "             'test MAE tfidf & SVD')"
   ]
  },
  {
   "cell_type": "code",
   "execution_count": 164,
   "metadata": {},
   "outputs": [
    {
     "data": {
      "text/plain": [
       "<BarContainer object of 69 artists>"
      ]
     },
     "execution_count": 164,
     "metadata": {},
     "output_type": "execute_result"
    },
    {
     "data": {
      "image/png": "[encoded data removed]",
      "text/plain": [
       "<Figure size 1440x1080 with 1 Axes>"
      ]
     },
     "metadata": {
      "needs_background": "light"
     },
     "output_type": "display_data"
    }
   ],
   "source": [
    "fig = plt.figure(figsize=(20, 15))\n",
    "plt.barh(*zip(*sorted(importances_tf_svd.items(), key=lambda x:x[1])))"
   ]
  },
  {
   "cell_type": "markdown",
   "metadata": {},
   "source": [
    "## Summary"
   ]
  },
  {
   "cell_type": "markdown",
   "metadata": {},
   "source": [
    "Как видно, пока всевозможные попытки изменить количество и качество данных в обучении моделей не приносит заметный прирост качества предсказаний. Во многом это объясняется зашумлённостью данных и множеством выбросов в них (что было показано при первичном визуальном анализе признаков в начале статьи). \n",
    "\n",
    "В датасете оказалось мало пользователей, оставивших достаточное количество оценок, чтобы стандартные методы коллаборативной фильтрации могли обучиться на имеющихся данных. Вероятно, в рамках этой задачи от матричной факторизации стоит отказаться и нацелиться только на использование информативных признаков о вине. Тот факт, что использованное SVD++ разложение так быстро переобучалось при добавлении к признакам смещения по пользователям и смещения по винам, объясняется тем, что большую часть датасета занимают пользователи с очень краткой историей взаимодействий, на которых SVD++ просто запоминает имеющуюся единственную оценку. Такое смещение, переданное в качестве признака, мало что говорит о предпочтениях пользователя, но влечёт подгонку под обучающий датасет. Аналогично со смещением по винам. \n",
    "\n",
    "Иными словами, для коллаборативной фильтрации необходимо больше информации о взаимодействии пользователей с винами, потому как большая часть данных оказывается вообще непригодной для практического применения SVD, а при настройке отбора данных, остаётся лишь малая часть пользователей, для которых вычисляемый прогноз оказывается приемлем.\n",
    "\n",
    "Обработка текстовых признаков не выглядит такой безнадёжной идеей: качество предсказаний не ухудшается. Имеет смысл в дальнейшем подробнее рассмотреть, как добавление векторных представлений слов будет вести себя при другом разбиение на обучающую и тестовую выборки (вне зависимости от наших предположений об SVD-разложнии), других параметрах xgboost. Здесь же стоит упомянуть, что, судя по графикам зависимости ошибок от количества деревьев в xgboost-е, много деревьев нам не нужно. В конце концов, 99 000 данных - не так много для обработки. "
   ]
  },
  {
   "cell_type": "markdown",
   "metadata": {},
   "source": [
    "Напоследок учтём такое наблюдение: какую бы новую информацию мы ни добавляли к фичам, наиболее важным признаком xgboost считает \"winery_vintages_count\" - количество сборов урожая винодельни-производителя вина. Такое сильное влияние этого фактора неочевидно, хотя вполне допустимо с точки зрения здравого смысла. \n",
    "\n",
    "Построим график зависимости таргета от этого признака."
   ]
  },
  {
   "cell_type": "code",
   "execution_count": 180,
   "metadata": {},
   "outputs": [
    {
     "name": "stdout",
     "output_type": "stream",
     "text": [
      "Максимальное значение winery_vintages_count:  223.0\n",
      "Минимальное значение winery_vintages_count:  0.0\n"
     ]
    },
    {
     "data": {
      "text/plain": [
       "<matplotlib.axes._subplots.AxesSubplot at 0x7fb653370c18>"
      ]
     },
     "execution_count": 180,
     "metadata": {},
     "output_type": "execute_result"
    },
    {
     "data": {
      "image/png": "[encoded data removed]",
      "text/plain": [
       "<Figure size 432x288 with 1 Axes>"
      ]
     },
     "metadata": {
      "needs_background": "light"
     },
     "output_type": "display_data"
    }
   ],
   "source": [
    "print(\"Максимальное значение winery_vintages_count: \", df_joined['wine_vintages_count'].max())\n",
    "print(\"Минимальное значение winery_vintages_count: \", df_joined['wine_vintages_count'].min())\n",
    "sns.scatterplot(x=\"wine_vintages_count\", y=\"common_normalized_rating\", data=df_joined)"
   ]
  },
  {
   "cell_type": "markdown",
   "metadata": {},
   "source": [
    "Подобная зависимость не очень близка к линейной, однако есть примечательные закономерности, которыми объясняется столь ярко выраженное влияние признака на таргет. Число сборов для вин с плохими оценками строго сгруппировано и не превышает 70. С увеличением нормализованной оценки заметно увеличивается разброс числа сборов винограда, а самые критические значения > 200 сборов соответствуют только винам, заслужившим среднюю и выше оценки. Естесственно, что модель машинного обучения увидит в таких данных закономерность.\n",
    "\n",
    "Однако, стоит принять во внимание, что экстремальные значения winery_vintages_count можно легко отбросить как шумовые на этапе предобработки данных, тогда зависимость несколько утратит линейность и очевидность. \n",
    "\n",
    "Кроме того, есть и другие подходы к выделению значимых для моделей признаков, и xgbdoost_importances не является лучшей из них. Стоит подойти со стороны shap values и посмотреть на получившиеся признаки."
   ]
  },
  {
   "cell_type": "markdown",
   "metadata": {},
   "source": [
    "Есть ещё один момент, требующий обсуждения: влияние текстовых признаков на предсказания рейтингов. В обоих графиках важности признаков было отражено, что мера tfidf слова в комментарии, оставленном при оценке играет немаловажную роль. При этом, при обучении xgb только на числовых и текстовых признаках, важными оказались слова: "
   ]
  },
  {
   "cell_type": "code",
   "execution_count": 192,
   "metadata": {},
   "outputs": [
    {
     "name": "stdout",
     "output_type": "stream",
     "text": [
      "refresh\n",
      "tabl wine\n",
      "okay\n"
     ]
    }
   ],
   "source": [
    "def get_key(d, value):\n",
    "    for k, v in d.items():\n",
    "        if v == value:\n",
    "            return k\n",
    "\n",
    "print(get_key(vect.vocabulary_, idx[32]))\n",
    "print(get_key(vect.vocabulary_, idx[33]))\n",
    "print(get_key(vect.vocabulary_, idx[2]))"
   ]
  },
  {
   "cell_type": "markdown",
   "metadata": {},
   "source": [
    "А при добавлении результатов работы SVD приобрели важность:"
   ]
  },
  {
   "cell_type": "code",
   "execution_count": 193,
   "metadata": {},
   "outputs": [
    {
     "name": "stdout",
     "output_type": "stream",
     "text": [
      "good valu\n",
      "sweet not\n",
      "dinner\n"
     ]
    }
   ],
   "source": [
    "print(get_key(vect.vocabulary_, idx[18]))\n",
    "print(get_key(vect.vocabulary_, idx[34]))\n",
    "print(get_key(vect.vocabulary_, idx[23]))"
   ]
  },
  {
   "cell_type": "markdown",
   "metadata": {},
   "source": [
    "Точно обосновать эту разницу нельзя, так  как tfidf мера всегда очень завязана на конкретном корпусе текста (комментарии), на частотности слова в корпусе и его семантической важности. "
   ]
  },
  {
   "cell_type": "markdown",
   "metadata": {},
   "source": [
    "### Дальнейший анализ:\n",
    "\n",
    "Во-первых, стоит отказаться от SVD (по крайней мере на данных в том виде, в котором они есть сейчас). Построить случайное разбиение и получить более честные оценки для xgboost с числовыми и текстовыми признаками с перекрестной проверкой.\n",
    "\n",
    "Во-вторых, имеет смысл усовершенствовать эвристику, с которой мы подошли к векторизации комментариев. Вероятно, можно достичь лучших результатов с другими параметрами отбора слов по втречаемости и весу.\n",
    "\n",
    "В-третьих, попробовать отобрать лишь значимые признаки, отбросить шумовые значения. Как было показано выше, сейчас наибольшее влияние на предсказываемую оценку играет признак winery_vintages_count. Возможно, отбор методами TruncatedSVD или shap importances переиграют эту ситуацию.\n",
    "\n",
    "Кроме того, у нас очень много данных по вину. Можно попробовать использовать на признаках и описании косинусную меру для измерения похожести вин. Это в идеале позволит круто рекомендовать продукты одной винодельни/одного купажа, но, скорее всего, на обобщении кислотности, алкоголя и прочих хим.параметров, влияющих на вкус, обломается.\n",
    "\n",
    "Как вишенку на торте можно завести нейросеть с аттеншенами, хотя в рамках такого небольшого датасета это представляется ударом пушкой по воробьям.\n",
    "\n",
    "Иными словами, проделанная работа - лишь начальный этап знакомства с данными, их обработки и пробы наиболее популярных подходов к построению рекомендательных систем. Особую прелесть имеет естественность датасета, где данные разительно отличаются от обычных обучающих материалов без выбросов, шума и с очевидными зависимостями. Спасибо, что прочли до конца, надеюсь, Вам было так же интересно, как и мне."
   ]
  },
  {
   "cell_type": "code",
   "execution_count": null,
   "metadata": {},
   "outputs": [],
   "source": []
  }
 ],
 "metadata": {
  "kernelspec": {
   "display_name": "Python 3",
   "language": "python",
   "name": "python3"
  },
  "language_info": {
   "codemirror_mode": {
    "name": "ipython",
    "version": 3
   },
   "file_extension": ".py",
   "mimetype": "text/x-python",
   "name": "python",
   "nbconvert_exporter": "python",
   "pygments_lexer": "ipython3",
   "version": "3.7.3"
  }
 },
 "nbformat": 4,
 "nbformat_minor": 2
}
